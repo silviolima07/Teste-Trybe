{
  "nbformat": 4,
  "nbformat_minor": 0,
  "metadata": {
    "colab": {
      "name": "trybe.ipynb",
      "provenance": [],
      "collapsed_sections": [],
      "mount_file_id": "1FwVRUyK3eEkDHShY6xco4kzWvxTyDw3L",
      "authorship_tag": "ABX9TyOtbw4POw4v4l8RAPeuzNu3",
      "include_colab_link": true
    },
    "kernelspec": {
      "name": "python3",
      "display_name": "Python 3"
    }
  },
  "cells": [
    {
      "cell_type": "markdown",
      "metadata": {
        "id": "view-in-github",
        "colab_type": "text"
      },
      "source": [
        "<a href=\"https://colab.research.google.com/github/silviolima07/Trybe/blob/main/trybe.ipynb\" target=\"_parent\"><img src=\"https://colab.research.google.com/assets/colab-badge.svg\" alt=\"Open In Colab\"/></a>"
      ]
    },
    {
      "cell_type": "code",
      "metadata": {
        "id": "Bog89QziV616"
      },
      "source": [
        "import numpy as np\n",
        "import pandas as pd\n",
        "import seaborn as sns\n",
        "sns.set(color_codes=True)\n",
        "import warnings\n",
        "warnings.filterwarnings(\"ignore\")\n",
        "from IPython.core.pylabtools import figsize\n",
        "import matplotlib.pyplot as plt\n",
        "pd.set_option('display.max_columns', 200) \n",
        "pd.set_option('display.max_rows', 200)\n",
        "from sklearn.preprocessing import LabelEncoder\n",
        "from sklearn.model_selection import train_test_split\n",
        "from sklearn.ensemble import RandomForestRegressor\n",
        "from sklearn.tree import DecisionTreeRegressor\n",
        "from sklearn.ensemble import ExtraTreesRegressor\n",
        "from sklearn.metrics import r2_score\n",
        "import pickle"
      ],
      "execution_count": 472,
      "outputs": []
    },
    {
      "cell_type": "code",
      "metadata": {
        "id": "kf2CxJfrWRWC"
      },
      "source": [
        "df_assessments = pd.read_csv(\"/content/drive/MyDrive/Colab Notebooks/Dataset/Trybe/assessments.csv\")\n",
        "#\n",
        "df_courses = pd.read_csv(\"/content/drive/MyDrive/Colab Notebooks/Dataset/Trybe/courses.csv\")\n",
        "#\n",
        "df_studentAssessments = pd.read_csv(\"/content/drive/MyDrive/Colab Notebooks/Dataset/Trybe/studentAssessment.csv\")\n",
        "#\n",
        "df_studentInfo = pd.read_csv(\"/content/drive/MyDrive/Colab Notebooks/Dataset/Trybe/studentInfo.csv\")\n",
        "#\n",
        "df_studentRegistration = pd.read_csv(\"/content/drive/MyDrive/Colab Notebooks/Dataset/Trybe/studentRegistration.csv\")\n",
        "#\n",
        "df_studentVle = pd.read_csv(\"/content/drive/MyDrive/Colab Notebooks/Dataset/Trybe/studentVle.csv\")\n",
        "#\n",
        "df_vle = pd.read_csv(\"/content/drive/MyDrive/Colab Notebooks/Dataset/Trybe/vle.csv\")"
      ],
      "execution_count": 371,
      "outputs": []
    },
    {
      "cell_type": "code",
      "metadata": {
        "colab": {
          "base_uri": "https://localhost:8080/",
          "height": 419
        },
        "id": "UqiT9zOsYQHU",
        "outputId": "40df83e0-db1c-44fe-d626-834e87eb198d"
      },
      "source": [
        "df_assessments"
      ],
      "execution_count": 372,
      "outputs": [
        {
          "output_type": "execute_result",
          "data": {
            "text/html": [
              "<div>\n",
              "<style scoped>\n",
              "    .dataframe tbody tr th:only-of-type {\n",
              "        vertical-align: middle;\n",
              "    }\n",
              "\n",
              "    .dataframe tbody tr th {\n",
              "        vertical-align: top;\n",
              "    }\n",
              "\n",
              "    .dataframe thead th {\n",
              "        text-align: right;\n",
              "    }\n",
              "</style>\n",
              "<table border=\"1\" class=\"dataframe\">\n",
              "  <thead>\n",
              "    <tr style=\"text-align: right;\">\n",
              "      <th></th>\n",
              "      <th>code_module</th>\n",
              "      <th>code_presentation</th>\n",
              "      <th>id_assessment</th>\n",
              "      <th>assessment_type</th>\n",
              "      <th>date</th>\n",
              "      <th>weight</th>\n",
              "    </tr>\n",
              "  </thead>\n",
              "  <tbody>\n",
              "    <tr>\n",
              "      <th>0</th>\n",
              "      <td>AAA</td>\n",
              "      <td>2013J</td>\n",
              "      <td>1752</td>\n",
              "      <td>TMA</td>\n",
              "      <td>19.0</td>\n",
              "      <td>10.0</td>\n",
              "    </tr>\n",
              "    <tr>\n",
              "      <th>1</th>\n",
              "      <td>AAA</td>\n",
              "      <td>2013J</td>\n",
              "      <td>1753</td>\n",
              "      <td>TMA</td>\n",
              "      <td>54.0</td>\n",
              "      <td>20.0</td>\n",
              "    </tr>\n",
              "    <tr>\n",
              "      <th>2</th>\n",
              "      <td>AAA</td>\n",
              "      <td>2013J</td>\n",
              "      <td>1754</td>\n",
              "      <td>TMA</td>\n",
              "      <td>117.0</td>\n",
              "      <td>20.0</td>\n",
              "    </tr>\n",
              "    <tr>\n",
              "      <th>3</th>\n",
              "      <td>AAA</td>\n",
              "      <td>2013J</td>\n",
              "      <td>1755</td>\n",
              "      <td>TMA</td>\n",
              "      <td>166.0</td>\n",
              "      <td>20.0</td>\n",
              "    </tr>\n",
              "    <tr>\n",
              "      <th>4</th>\n",
              "      <td>AAA</td>\n",
              "      <td>2013J</td>\n",
              "      <td>1756</td>\n",
              "      <td>TMA</td>\n",
              "      <td>215.0</td>\n",
              "      <td>30.0</td>\n",
              "    </tr>\n",
              "    <tr>\n",
              "      <th>...</th>\n",
              "      <td>...</td>\n",
              "      <td>...</td>\n",
              "      <td>...</td>\n",
              "      <td>...</td>\n",
              "      <td>...</td>\n",
              "      <td>...</td>\n",
              "    </tr>\n",
              "    <tr>\n",
              "      <th>201</th>\n",
              "      <td>GGG</td>\n",
              "      <td>2014J</td>\n",
              "      <td>37443</td>\n",
              "      <td>CMA</td>\n",
              "      <td>229.0</td>\n",
              "      <td>0.0</td>\n",
              "    </tr>\n",
              "    <tr>\n",
              "      <th>202</th>\n",
              "      <td>GGG</td>\n",
              "      <td>2014J</td>\n",
              "      <td>37435</td>\n",
              "      <td>TMA</td>\n",
              "      <td>61.0</td>\n",
              "      <td>0.0</td>\n",
              "    </tr>\n",
              "    <tr>\n",
              "      <th>203</th>\n",
              "      <td>GGG</td>\n",
              "      <td>2014J</td>\n",
              "      <td>37436</td>\n",
              "      <td>TMA</td>\n",
              "      <td>124.0</td>\n",
              "      <td>0.0</td>\n",
              "    </tr>\n",
              "    <tr>\n",
              "      <th>204</th>\n",
              "      <td>GGG</td>\n",
              "      <td>2014J</td>\n",
              "      <td>37437</td>\n",
              "      <td>TMA</td>\n",
              "      <td>173.0</td>\n",
              "      <td>0.0</td>\n",
              "    </tr>\n",
              "    <tr>\n",
              "      <th>205</th>\n",
              "      <td>GGG</td>\n",
              "      <td>2014J</td>\n",
              "      <td>37444</td>\n",
              "      <td>Exam</td>\n",
              "      <td>229.0</td>\n",
              "      <td>100.0</td>\n",
              "    </tr>\n",
              "  </tbody>\n",
              "</table>\n",
              "<p>206 rows × 6 columns</p>\n",
              "</div>"
            ],
            "text/plain": [
              "    code_module code_presentation  id_assessment assessment_type   date  \\\n",
              "0           AAA             2013J           1752             TMA   19.0   \n",
              "1           AAA             2013J           1753             TMA   54.0   \n",
              "2           AAA             2013J           1754             TMA  117.0   \n",
              "3           AAA             2013J           1755             TMA  166.0   \n",
              "4           AAA             2013J           1756             TMA  215.0   \n",
              "..          ...               ...            ...             ...    ...   \n",
              "201         GGG             2014J          37443             CMA  229.0   \n",
              "202         GGG             2014J          37435             TMA   61.0   \n",
              "203         GGG             2014J          37436             TMA  124.0   \n",
              "204         GGG             2014J          37437             TMA  173.0   \n",
              "205         GGG             2014J          37444            Exam  229.0   \n",
              "\n",
              "     weight  \n",
              "0      10.0  \n",
              "1      20.0  \n",
              "2      20.0  \n",
              "3      20.0  \n",
              "4      30.0  \n",
              "..      ...  \n",
              "201     0.0  \n",
              "202     0.0  \n",
              "203     0.0  \n",
              "204     0.0  \n",
              "205   100.0  \n",
              "\n",
              "[206 rows x 6 columns]"
            ]
          },
          "metadata": {
            "tags": []
          },
          "execution_count": 372
        }
      ]
    },
    {
      "cell_type": "code",
      "metadata": {
        "colab": {
          "base_uri": "https://localhost:8080/",
          "height": 419
        },
        "id": "McCZtkHxYjsR",
        "outputId": "c760a0b2-9f27-4d30-9007-f04295457f2a"
      },
      "source": [
        "df_studentAssessments"
      ],
      "execution_count": 373,
      "outputs": [
        {
          "output_type": "execute_result",
          "data": {
            "text/html": [
              "<div>\n",
              "<style scoped>\n",
              "    .dataframe tbody tr th:only-of-type {\n",
              "        vertical-align: middle;\n",
              "    }\n",
              "\n",
              "    .dataframe tbody tr th {\n",
              "        vertical-align: top;\n",
              "    }\n",
              "\n",
              "    .dataframe thead th {\n",
              "        text-align: right;\n",
              "    }\n",
              "</style>\n",
              "<table border=\"1\" class=\"dataframe\">\n",
              "  <thead>\n",
              "    <tr style=\"text-align: right;\">\n",
              "      <th></th>\n",
              "      <th>id_assessment</th>\n",
              "      <th>id_student</th>\n",
              "      <th>date_submitted</th>\n",
              "      <th>is_banked</th>\n",
              "      <th>score</th>\n",
              "    </tr>\n",
              "  </thead>\n",
              "  <tbody>\n",
              "    <tr>\n",
              "      <th>0</th>\n",
              "      <td>1752</td>\n",
              "      <td>11391</td>\n",
              "      <td>18</td>\n",
              "      <td>0</td>\n",
              "      <td>78.0</td>\n",
              "    </tr>\n",
              "    <tr>\n",
              "      <th>1</th>\n",
              "      <td>1752</td>\n",
              "      <td>28400</td>\n",
              "      <td>22</td>\n",
              "      <td>0</td>\n",
              "      <td>70.0</td>\n",
              "    </tr>\n",
              "    <tr>\n",
              "      <th>2</th>\n",
              "      <td>1752</td>\n",
              "      <td>31604</td>\n",
              "      <td>17</td>\n",
              "      <td>0</td>\n",
              "      <td>72.0</td>\n",
              "    </tr>\n",
              "    <tr>\n",
              "      <th>3</th>\n",
              "      <td>1752</td>\n",
              "      <td>32885</td>\n",
              "      <td>26</td>\n",
              "      <td>0</td>\n",
              "      <td>69.0</td>\n",
              "    </tr>\n",
              "    <tr>\n",
              "      <th>4</th>\n",
              "      <td>1752</td>\n",
              "      <td>38053</td>\n",
              "      <td>19</td>\n",
              "      <td>0</td>\n",
              "      <td>79.0</td>\n",
              "    </tr>\n",
              "    <tr>\n",
              "      <th>...</th>\n",
              "      <td>...</td>\n",
              "      <td>...</td>\n",
              "      <td>...</td>\n",
              "      <td>...</td>\n",
              "      <td>...</td>\n",
              "    </tr>\n",
              "    <tr>\n",
              "      <th>173907</th>\n",
              "      <td>37443</td>\n",
              "      <td>527538</td>\n",
              "      <td>227</td>\n",
              "      <td>0</td>\n",
              "      <td>60.0</td>\n",
              "    </tr>\n",
              "    <tr>\n",
              "      <th>173908</th>\n",
              "      <td>37443</td>\n",
              "      <td>534672</td>\n",
              "      <td>229</td>\n",
              "      <td>0</td>\n",
              "      <td>100.0</td>\n",
              "    </tr>\n",
              "    <tr>\n",
              "      <th>173909</th>\n",
              "      <td>37443</td>\n",
              "      <td>546286</td>\n",
              "      <td>215</td>\n",
              "      <td>0</td>\n",
              "      <td>80.0</td>\n",
              "    </tr>\n",
              "    <tr>\n",
              "      <th>173910</th>\n",
              "      <td>37443</td>\n",
              "      <td>546724</td>\n",
              "      <td>230</td>\n",
              "      <td>0</td>\n",
              "      <td>100.0</td>\n",
              "    </tr>\n",
              "    <tr>\n",
              "      <th>173911</th>\n",
              "      <td>37443</td>\n",
              "      <td>558486</td>\n",
              "      <td>224</td>\n",
              "      <td>0</td>\n",
              "      <td>80.0</td>\n",
              "    </tr>\n",
              "  </tbody>\n",
              "</table>\n",
              "<p>173912 rows × 5 columns</p>\n",
              "</div>"
            ],
            "text/plain": [
              "        id_assessment  id_student  date_submitted  is_banked  score\n",
              "0                1752       11391              18          0   78.0\n",
              "1                1752       28400              22          0   70.0\n",
              "2                1752       31604              17          0   72.0\n",
              "3                1752       32885              26          0   69.0\n",
              "4                1752       38053              19          0   79.0\n",
              "...               ...         ...             ...        ...    ...\n",
              "173907          37443      527538             227          0   60.0\n",
              "173908          37443      534672             229          0  100.0\n",
              "173909          37443      546286             215          0   80.0\n",
              "173910          37443      546724             230          0  100.0\n",
              "173911          37443      558486             224          0   80.0\n",
              "\n",
              "[173912 rows x 5 columns]"
            ]
          },
          "metadata": {
            "tags": []
          },
          "execution_count": 373
        }
      ]
    },
    {
      "cell_type": "code",
      "metadata": {
        "colab": {
          "base_uri": "https://localhost:8080/",
          "height": 360
        },
        "id": "ffkeAgJiYz2G",
        "outputId": "f5439e3f-7eb6-4e02-8a8a-66a16fe6f9ed"
      },
      "source": [
        "df_studentInfo.head()"
      ],
      "execution_count": 374,
      "outputs": [
        {
          "output_type": "execute_result",
          "data": {
            "text/html": [
              "<div>\n",
              "<style scoped>\n",
              "    .dataframe tbody tr th:only-of-type {\n",
              "        vertical-align: middle;\n",
              "    }\n",
              "\n",
              "    .dataframe tbody tr th {\n",
              "        vertical-align: top;\n",
              "    }\n",
              "\n",
              "    .dataframe thead th {\n",
              "        text-align: right;\n",
              "    }\n",
              "</style>\n",
              "<table border=\"1\" class=\"dataframe\">\n",
              "  <thead>\n",
              "    <tr style=\"text-align: right;\">\n",
              "      <th></th>\n",
              "      <th>code_module</th>\n",
              "      <th>code_presentation</th>\n",
              "      <th>id_student</th>\n",
              "      <th>gender</th>\n",
              "      <th>region</th>\n",
              "      <th>highest_education</th>\n",
              "      <th>imd_band</th>\n",
              "      <th>age_band</th>\n",
              "      <th>num_of_prev_attempts</th>\n",
              "      <th>studied_credits</th>\n",
              "      <th>disability</th>\n",
              "      <th>final_result</th>\n",
              "    </tr>\n",
              "  </thead>\n",
              "  <tbody>\n",
              "    <tr>\n",
              "      <th>0</th>\n",
              "      <td>AAA</td>\n",
              "      <td>2013J</td>\n",
              "      <td>11391</td>\n",
              "      <td>M</td>\n",
              "      <td>East Anglian Region</td>\n",
              "      <td>HE Qualification</td>\n",
              "      <td>90-100%</td>\n",
              "      <td>55&lt;=</td>\n",
              "      <td>0</td>\n",
              "      <td>240</td>\n",
              "      <td>N</td>\n",
              "      <td>Pass</td>\n",
              "    </tr>\n",
              "    <tr>\n",
              "      <th>1</th>\n",
              "      <td>AAA</td>\n",
              "      <td>2013J</td>\n",
              "      <td>28400</td>\n",
              "      <td>F</td>\n",
              "      <td>Scotland</td>\n",
              "      <td>HE Qualification</td>\n",
              "      <td>20-30%</td>\n",
              "      <td>35-55</td>\n",
              "      <td>0</td>\n",
              "      <td>60</td>\n",
              "      <td>N</td>\n",
              "      <td>Pass</td>\n",
              "    </tr>\n",
              "    <tr>\n",
              "      <th>2</th>\n",
              "      <td>AAA</td>\n",
              "      <td>2013J</td>\n",
              "      <td>30268</td>\n",
              "      <td>F</td>\n",
              "      <td>North Western Region</td>\n",
              "      <td>A Level or Equivalent</td>\n",
              "      <td>30-40%</td>\n",
              "      <td>35-55</td>\n",
              "      <td>0</td>\n",
              "      <td>60</td>\n",
              "      <td>Y</td>\n",
              "      <td>Withdrawn</td>\n",
              "    </tr>\n",
              "    <tr>\n",
              "      <th>3</th>\n",
              "      <td>AAA</td>\n",
              "      <td>2013J</td>\n",
              "      <td>31604</td>\n",
              "      <td>F</td>\n",
              "      <td>South East Region</td>\n",
              "      <td>A Level or Equivalent</td>\n",
              "      <td>50-60%</td>\n",
              "      <td>35-55</td>\n",
              "      <td>0</td>\n",
              "      <td>60</td>\n",
              "      <td>N</td>\n",
              "      <td>Pass</td>\n",
              "    </tr>\n",
              "    <tr>\n",
              "      <th>4</th>\n",
              "      <td>AAA</td>\n",
              "      <td>2013J</td>\n",
              "      <td>32885</td>\n",
              "      <td>F</td>\n",
              "      <td>West Midlands Region</td>\n",
              "      <td>Lower Than A Level</td>\n",
              "      <td>50-60%</td>\n",
              "      <td>0-35</td>\n",
              "      <td>0</td>\n",
              "      <td>60</td>\n",
              "      <td>N</td>\n",
              "      <td>Pass</td>\n",
              "    </tr>\n",
              "  </tbody>\n",
              "</table>\n",
              "</div>"
            ],
            "text/plain": [
              "  code_module code_presentation  id_student gender                region  \\\n",
              "0         AAA             2013J       11391      M   East Anglian Region   \n",
              "1         AAA             2013J       28400      F              Scotland   \n",
              "2         AAA             2013J       30268      F  North Western Region   \n",
              "3         AAA             2013J       31604      F     South East Region   \n",
              "4         AAA             2013J       32885      F  West Midlands Region   \n",
              "\n",
              "       highest_education imd_band age_band  num_of_prev_attempts  \\\n",
              "0       HE Qualification  90-100%     55<=                     0   \n",
              "1       HE Qualification   20-30%    35-55                     0   \n",
              "2  A Level or Equivalent   30-40%    35-55                     0   \n",
              "3  A Level or Equivalent   50-60%    35-55                     0   \n",
              "4     Lower Than A Level   50-60%     0-35                     0   \n",
              "\n",
              "   studied_credits disability final_result  \n",
              "0              240          N         Pass  \n",
              "1               60          N         Pass  \n",
              "2               60          Y    Withdrawn  \n",
              "3               60          N         Pass  \n",
              "4               60          N         Pass  "
            ]
          },
          "metadata": {
            "tags": []
          },
          "execution_count": 374
        }
      ]
    },
    {
      "cell_type": "code",
      "metadata": {
        "colab": {
          "base_uri": "https://localhost:8080/",
          "height": 204
        },
        "id": "dq8XjrbbZFq-",
        "outputId": "660bf879-7621-48b7-813d-8ba08dfd0e54"
      },
      "source": [
        "df_courses.head()"
      ],
      "execution_count": 375,
      "outputs": [
        {
          "output_type": "execute_result",
          "data": {
            "text/html": [
              "<div>\n",
              "<style scoped>\n",
              "    .dataframe tbody tr th:only-of-type {\n",
              "        vertical-align: middle;\n",
              "    }\n",
              "\n",
              "    .dataframe tbody tr th {\n",
              "        vertical-align: top;\n",
              "    }\n",
              "\n",
              "    .dataframe thead th {\n",
              "        text-align: right;\n",
              "    }\n",
              "</style>\n",
              "<table border=\"1\" class=\"dataframe\">\n",
              "  <thead>\n",
              "    <tr style=\"text-align: right;\">\n",
              "      <th></th>\n",
              "      <th>code_module</th>\n",
              "      <th>code_presentation</th>\n",
              "      <th>module_presentation_length</th>\n",
              "    </tr>\n",
              "  </thead>\n",
              "  <tbody>\n",
              "    <tr>\n",
              "      <th>0</th>\n",
              "      <td>AAA</td>\n",
              "      <td>2013J</td>\n",
              "      <td>268</td>\n",
              "    </tr>\n",
              "    <tr>\n",
              "      <th>1</th>\n",
              "      <td>AAA</td>\n",
              "      <td>2014J</td>\n",
              "      <td>269</td>\n",
              "    </tr>\n",
              "    <tr>\n",
              "      <th>2</th>\n",
              "      <td>BBB</td>\n",
              "      <td>2013J</td>\n",
              "      <td>268</td>\n",
              "    </tr>\n",
              "    <tr>\n",
              "      <th>3</th>\n",
              "      <td>BBB</td>\n",
              "      <td>2014J</td>\n",
              "      <td>262</td>\n",
              "    </tr>\n",
              "    <tr>\n",
              "      <th>4</th>\n",
              "      <td>BBB</td>\n",
              "      <td>2013B</td>\n",
              "      <td>240</td>\n",
              "    </tr>\n",
              "  </tbody>\n",
              "</table>\n",
              "</div>"
            ],
            "text/plain": [
              "  code_module code_presentation  module_presentation_length\n",
              "0         AAA             2013J                         268\n",
              "1         AAA             2014J                         269\n",
              "2         BBB             2013J                         268\n",
              "3         BBB             2014J                         262\n",
              "4         BBB             2013B                         240"
            ]
          },
          "metadata": {
            "tags": []
          },
          "execution_count": 375
        }
      ]
    },
    {
      "cell_type": "markdown",
      "metadata": {
        "id": "OWY8nkMy9iDT"
      },
      "source": [
        "### Unindo os dados de df_assessments e df_studentAssessments"
      ]
    },
    {
      "cell_type": "code",
      "metadata": {
        "id": "N0wKpn8AbcKT"
      },
      "source": [
        "# Merge inner join df_assessments and df_studentAsssessments\n",
        "df_merge1 = pd.merge(df_assessments,df_studentAssessments)"
      ],
      "execution_count": 376,
      "outputs": []
    },
    {
      "cell_type": "markdown",
      "metadata": {
        "id": "LCuTfxJs95o1"
      },
      "source": [
        "### Unindo os dados de df_merge1 e df_courses"
      ]
    },
    {
      "cell_type": "code",
      "metadata": {
        "id": "zGHe3uPwmVXc"
      },
      "source": [
        "# Merge inner join df_merge1 and df_courses\n",
        "df_merge2 = pd.merge(df_merge1,df_courses)"
      ],
      "execution_count": 377,
      "outputs": []
    },
    {
      "cell_type": "code",
      "metadata": {
        "id": "4FlFsmPoc5nv"
      },
      "source": [
        "# Merge inner join df_merge2 and df_studentInfo\n",
        "df = pd.merge(df_merge2,df_studentInfo)"
      ],
      "execution_count": 378,
      "outputs": []
    },
    {
      "cell_type": "markdown",
      "metadata": {
        "id": "joLWJ8bZ-OhE"
      },
      "source": [
        "### Estatistica descritiva do dataset gerado"
      ]
    },
    {
      "cell_type": "code",
      "metadata": {
        "colab": {
          "base_uri": "https://localhost:8080/",
          "height": 359
        },
        "id": "uV-PGm3UNFGy",
        "outputId": "c2e60180-b38f-4c5b-e5e2-78ca0582e47b"
      },
      "source": [
        "df.describe().T"
      ],
      "execution_count": 379,
      "outputs": [
        {
          "output_type": "execute_result",
          "data": {
            "text/html": [
              "<div>\n",
              "<style scoped>\n",
              "    .dataframe tbody tr th:only-of-type {\n",
              "        vertical-align: middle;\n",
              "    }\n",
              "\n",
              "    .dataframe tbody tr th {\n",
              "        vertical-align: top;\n",
              "    }\n",
              "\n",
              "    .dataframe thead th {\n",
              "        text-align: right;\n",
              "    }\n",
              "</style>\n",
              "<table border=\"1\" class=\"dataframe\">\n",
              "  <thead>\n",
              "    <tr style=\"text-align: right;\">\n",
              "      <th></th>\n",
              "      <th>count</th>\n",
              "      <th>mean</th>\n",
              "      <th>std</th>\n",
              "      <th>min</th>\n",
              "      <th>25%</th>\n",
              "      <th>50%</th>\n",
              "      <th>75%</th>\n",
              "      <th>max</th>\n",
              "    </tr>\n",
              "  </thead>\n",
              "  <tbody>\n",
              "    <tr>\n",
              "      <th>id_assessment</th>\n",
              "      <td>173912.0</td>\n",
              "      <td>26553.803556</td>\n",
              "      <td>8829.784254</td>\n",
              "      <td>1752.0</td>\n",
              "      <td>15022.0</td>\n",
              "      <td>25359.0</td>\n",
              "      <td>34883.0</td>\n",
              "      <td>37443.0</td>\n",
              "    </tr>\n",
              "    <tr>\n",
              "      <th>date</th>\n",
              "      <td>171047.0</td>\n",
              "      <td>130.605623</td>\n",
              "      <td>78.025175</td>\n",
              "      <td>12.0</td>\n",
              "      <td>54.0</td>\n",
              "      <td>129.0</td>\n",
              "      <td>214.0</td>\n",
              "      <td>261.0</td>\n",
              "    </tr>\n",
              "    <tr>\n",
              "      <th>weight</th>\n",
              "      <td>173912.0</td>\n",
              "      <td>12.743899</td>\n",
              "      <td>17.877301</td>\n",
              "      <td>0.0</td>\n",
              "      <td>0.0</td>\n",
              "      <td>9.0</td>\n",
              "      <td>18.0</td>\n",
              "      <td>100.0</td>\n",
              "    </tr>\n",
              "    <tr>\n",
              "      <th>id_student</th>\n",
              "      <td>173912.0</td>\n",
              "      <td>705150.717225</td>\n",
              "      <td>552395.190999</td>\n",
              "      <td>6516.0</td>\n",
              "      <td>504429.0</td>\n",
              "      <td>585208.0</td>\n",
              "      <td>634498.0</td>\n",
              "      <td>2698588.0</td>\n",
              "    </tr>\n",
              "    <tr>\n",
              "      <th>date_submitted</th>\n",
              "      <td>173912.0</td>\n",
              "      <td>116.032942</td>\n",
              "      <td>71.484148</td>\n",
              "      <td>-11.0</td>\n",
              "      <td>51.0</td>\n",
              "      <td>116.0</td>\n",
              "      <td>173.0</td>\n",
              "      <td>608.0</td>\n",
              "    </tr>\n",
              "    <tr>\n",
              "      <th>is_banked</th>\n",
              "      <td>173912.0</td>\n",
              "      <td>0.010977</td>\n",
              "      <td>0.104194</td>\n",
              "      <td>0.0</td>\n",
              "      <td>0.0</td>\n",
              "      <td>0.0</td>\n",
              "      <td>0.0</td>\n",
              "      <td>1.0</td>\n",
              "    </tr>\n",
              "    <tr>\n",
              "      <th>score</th>\n",
              "      <td>173739.0</td>\n",
              "      <td>75.799573</td>\n",
              "      <td>18.798107</td>\n",
              "      <td>0.0</td>\n",
              "      <td>65.0</td>\n",
              "      <td>80.0</td>\n",
              "      <td>90.0</td>\n",
              "      <td>100.0</td>\n",
              "    </tr>\n",
              "    <tr>\n",
              "      <th>module_presentation_length</th>\n",
              "      <td>173912.0</td>\n",
              "      <td>255.233831</td>\n",
              "      <td>13.579401</td>\n",
              "      <td>234.0</td>\n",
              "      <td>240.0</td>\n",
              "      <td>262.0</td>\n",
              "      <td>268.0</td>\n",
              "      <td>269.0</td>\n",
              "    </tr>\n",
              "    <tr>\n",
              "      <th>num_of_prev_attempts</th>\n",
              "      <td>173912.0</td>\n",
              "      <td>0.144907</td>\n",
              "      <td>0.445326</td>\n",
              "      <td>0.0</td>\n",
              "      <td>0.0</td>\n",
              "      <td>0.0</td>\n",
              "      <td>0.0</td>\n",
              "      <td>6.0</td>\n",
              "    </tr>\n",
              "    <tr>\n",
              "      <th>studied_credits</th>\n",
              "      <td>173912.0</td>\n",
              "      <td>76.779147</td>\n",
              "      <td>37.341741</td>\n",
              "      <td>30.0</td>\n",
              "      <td>60.0</td>\n",
              "      <td>60.0</td>\n",
              "      <td>90.0</td>\n",
              "      <td>630.0</td>\n",
              "    </tr>\n",
              "  </tbody>\n",
              "</table>\n",
              "</div>"
            ],
            "text/plain": [
              "                               count           mean            std     min  \\\n",
              "id_assessment               173912.0   26553.803556    8829.784254  1752.0   \n",
              "date                        171047.0     130.605623      78.025175    12.0   \n",
              "weight                      173912.0      12.743899      17.877301     0.0   \n",
              "id_student                  173912.0  705150.717225  552395.190999  6516.0   \n",
              "date_submitted              173912.0     116.032942      71.484148   -11.0   \n",
              "is_banked                   173912.0       0.010977       0.104194     0.0   \n",
              "score                       173739.0      75.799573      18.798107     0.0   \n",
              "module_presentation_length  173912.0     255.233831      13.579401   234.0   \n",
              "num_of_prev_attempts        173912.0       0.144907       0.445326     0.0   \n",
              "studied_credits             173912.0      76.779147      37.341741    30.0   \n",
              "\n",
              "                                 25%       50%       75%        max  \n",
              "id_assessment                15022.0   25359.0   34883.0    37443.0  \n",
              "date                            54.0     129.0     214.0      261.0  \n",
              "weight                           0.0       9.0      18.0      100.0  \n",
              "id_student                  504429.0  585208.0  634498.0  2698588.0  \n",
              "date_submitted                  51.0     116.0     173.0      608.0  \n",
              "is_banked                        0.0       0.0       0.0        1.0  \n",
              "score                           65.0      80.0      90.0      100.0  \n",
              "module_presentation_length     240.0     262.0     268.0      269.0  \n",
              "num_of_prev_attempts             0.0       0.0       0.0        6.0  \n",
              "studied_credits                 60.0      60.0      90.0      630.0  "
            ]
          },
          "metadata": {
            "tags": []
          },
          "execution_count": 379
        }
      ]
    },
    {
      "cell_type": "code",
      "metadata": {
        "colab": {
          "base_uri": "https://localhost:8080/"
        },
        "id": "NgmCDFuDMtbH",
        "outputId": "3344b262-5e95-4dcb-998a-c436f468b76f"
      },
      "source": [
        "df.shape"
      ],
      "execution_count": 380,
      "outputs": [
        {
          "output_type": "execute_result",
          "data": {
            "text/plain": [
              "(173912, 20)"
            ]
          },
          "metadata": {
            "tags": []
          },
          "execution_count": 380
        }
      ]
    },
    {
      "cell_type": "markdown",
      "metadata": {
        "id": "rWKqlr6R-beH"
      },
      "source": [
        "### Em date_submitted aparecem valores negativos, que acredito não serem possíveis de ocorrer. Serão removidos."
      ]
    },
    {
      "cell_type": "code",
      "metadata": {
        "id": "qoueqnjzQZ7t"
      },
      "source": [
        "# No describe aparece um valor negativo para date_submitted, uma valor que eu creio estar errado\n",
        "df_remove = df.loc[((df['date_submitted'] < 0))]"
      ],
      "execution_count": 381,
      "outputs": []
    },
    {
      "cell_type": "code",
      "metadata": {
        "id": "XYLIsEeHS3JL"
      },
      "source": [
        "df.drop(df_remove.index, inplace=True)"
      ],
      "execution_count": 382,
      "outputs": []
    },
    {
      "cell_type": "code",
      "metadata": {
        "colab": {
          "base_uri": "https://localhost:8080/"
        },
        "id": "uhFd2std6ZId",
        "outputId": "a86ec6d0-972a-4f86-f65a-83cc715b0685"
      },
      "source": [
        "# Identificando o tipo das colunas\n",
        "df.dtypes"
      ],
      "execution_count": 383,
      "outputs": [
        {
          "output_type": "execute_result",
          "data": {
            "text/plain": [
              "code_module                    object\n",
              "code_presentation              object\n",
              "id_assessment                   int64\n",
              "assessment_type                object\n",
              "date                          float64\n",
              "weight                        float64\n",
              "id_student                      int64\n",
              "date_submitted                  int64\n",
              "is_banked                       int64\n",
              "score                         float64\n",
              "module_presentation_length      int64\n",
              "gender                         object\n",
              "region                         object\n",
              "highest_education              object\n",
              "imd_band                       object\n",
              "age_band                       object\n",
              "num_of_prev_attempts            int64\n",
              "studied_credits                 int64\n",
              "disability                     object\n",
              "final_result                   object\n",
              "dtype: object"
            ]
          },
          "metadata": {
            "tags": []
          },
          "execution_count": 383
        }
      ]
    },
    {
      "cell_type": "code",
      "metadata": {
        "colab": {
          "base_uri": "https://localhost:8080/"
        },
        "id": "JOZU0GEK-2of",
        "outputId": "13438b06-a515-4f63-9f87-ac2c38d06ef7"
      },
      "source": [
        "df.isna().sum()"
      ],
      "execution_count": 384,
      "outputs": [
        {
          "output_type": "execute_result",
          "data": {
            "text/plain": [
              "code_module                      0\n",
              "code_presentation                0\n",
              "id_assessment                    0\n",
              "assessment_type                  0\n",
              "date                          2865\n",
              "weight                           0\n",
              "id_student                       0\n",
              "date_submitted                   0\n",
              "is_banked                        0\n",
              "score                          171\n",
              "module_presentation_length       0\n",
              "gender                           0\n",
              "region                           0\n",
              "highest_education                0\n",
              "imd_band                      7617\n",
              "age_band                         0\n",
              "num_of_prev_attempts             0\n",
              "studied_credits                  0\n",
              "disability                       0\n",
              "final_result                     0\n",
              "dtype: int64"
            ]
          },
          "metadata": {
            "tags": []
          },
          "execution_count": 384
        }
      ]
    },
    {
      "cell_type": "markdown",
      "metadata": {
        "id": "OO6zQ54H_QcY"
      },
      "source": [
        "### Nas colunas numéricas os valores ausentes serão preenchidos pela média da respectiva coluna.\n",
        "### Valores object ausentes serão preenchidos pelo valor mais frequente."
      ]
    },
    {
      "cell_type": "code",
      "metadata": {
        "id": "tIa360cD92RI"
      },
      "source": [
        "# Substituir nas colunas númericas, valores ausentes pela média da coluna\n",
        "df.fillna(df.mean(), inplace=True)"
      ],
      "execution_count": 385,
      "outputs": []
    },
    {
      "cell_type": "code",
      "metadata": {
        "id": "sDk7qk7hDjPl"
      },
      "source": [
        "# Substituir nas colunas object, valores ausentes pelo valor mais frequente na coluna\n",
        "df.fillna(df.select_dtypes(include='object').mode().iloc[0], inplace=True)"
      ],
      "execution_count": 386,
      "outputs": []
    },
    {
      "cell_type": "code",
      "metadata": {
        "colab": {
          "base_uri": "https://localhost:8080/",
          "height": 549
        },
        "id": "tRfPa3ZJdFl9",
        "outputId": "bb80b770-68e6-43ce-b7d7-1dc71486722b"
      },
      "source": [
        "df.head(10)"
      ],
      "execution_count": 387,
      "outputs": [
        {
          "output_type": "execute_result",
          "data": {
            "text/html": [
              "<div>\n",
              "<style scoped>\n",
              "    .dataframe tbody tr th:only-of-type {\n",
              "        vertical-align: middle;\n",
              "    }\n",
              "\n",
              "    .dataframe tbody tr th {\n",
              "        vertical-align: top;\n",
              "    }\n",
              "\n",
              "    .dataframe thead th {\n",
              "        text-align: right;\n",
              "    }\n",
              "</style>\n",
              "<table border=\"1\" class=\"dataframe\">\n",
              "  <thead>\n",
              "    <tr style=\"text-align: right;\">\n",
              "      <th></th>\n",
              "      <th>code_module</th>\n",
              "      <th>code_presentation</th>\n",
              "      <th>id_assessment</th>\n",
              "      <th>assessment_type</th>\n",
              "      <th>date</th>\n",
              "      <th>weight</th>\n",
              "      <th>id_student</th>\n",
              "      <th>date_submitted</th>\n",
              "      <th>is_banked</th>\n",
              "      <th>score</th>\n",
              "      <th>module_presentation_length</th>\n",
              "      <th>gender</th>\n",
              "      <th>region</th>\n",
              "      <th>highest_education</th>\n",
              "      <th>imd_band</th>\n",
              "      <th>age_band</th>\n",
              "      <th>num_of_prev_attempts</th>\n",
              "      <th>studied_credits</th>\n",
              "      <th>disability</th>\n",
              "      <th>final_result</th>\n",
              "    </tr>\n",
              "  </thead>\n",
              "  <tbody>\n",
              "    <tr>\n",
              "      <th>0</th>\n",
              "      <td>AAA</td>\n",
              "      <td>2013J</td>\n",
              "      <td>1752</td>\n",
              "      <td>TMA</td>\n",
              "      <td>19.0</td>\n",
              "      <td>10.0</td>\n",
              "      <td>11391</td>\n",
              "      <td>18</td>\n",
              "      <td>0</td>\n",
              "      <td>78.0</td>\n",
              "      <td>268</td>\n",
              "      <td>M</td>\n",
              "      <td>East Anglian Region</td>\n",
              "      <td>HE Qualification</td>\n",
              "      <td>90-100%</td>\n",
              "      <td>55&lt;=</td>\n",
              "      <td>0</td>\n",
              "      <td>240</td>\n",
              "      <td>N</td>\n",
              "      <td>Pass</td>\n",
              "    </tr>\n",
              "    <tr>\n",
              "      <th>1</th>\n",
              "      <td>AAA</td>\n",
              "      <td>2013J</td>\n",
              "      <td>1753</td>\n",
              "      <td>TMA</td>\n",
              "      <td>54.0</td>\n",
              "      <td>20.0</td>\n",
              "      <td>11391</td>\n",
              "      <td>53</td>\n",
              "      <td>0</td>\n",
              "      <td>85.0</td>\n",
              "      <td>268</td>\n",
              "      <td>M</td>\n",
              "      <td>East Anglian Region</td>\n",
              "      <td>HE Qualification</td>\n",
              "      <td>90-100%</td>\n",
              "      <td>55&lt;=</td>\n",
              "      <td>0</td>\n",
              "      <td>240</td>\n",
              "      <td>N</td>\n",
              "      <td>Pass</td>\n",
              "    </tr>\n",
              "    <tr>\n",
              "      <th>2</th>\n",
              "      <td>AAA</td>\n",
              "      <td>2013J</td>\n",
              "      <td>1754</td>\n",
              "      <td>TMA</td>\n",
              "      <td>117.0</td>\n",
              "      <td>20.0</td>\n",
              "      <td>11391</td>\n",
              "      <td>115</td>\n",
              "      <td>0</td>\n",
              "      <td>80.0</td>\n",
              "      <td>268</td>\n",
              "      <td>M</td>\n",
              "      <td>East Anglian Region</td>\n",
              "      <td>HE Qualification</td>\n",
              "      <td>90-100%</td>\n",
              "      <td>55&lt;=</td>\n",
              "      <td>0</td>\n",
              "      <td>240</td>\n",
              "      <td>N</td>\n",
              "      <td>Pass</td>\n",
              "    </tr>\n",
              "    <tr>\n",
              "      <th>3</th>\n",
              "      <td>AAA</td>\n",
              "      <td>2013J</td>\n",
              "      <td>1755</td>\n",
              "      <td>TMA</td>\n",
              "      <td>166.0</td>\n",
              "      <td>20.0</td>\n",
              "      <td>11391</td>\n",
              "      <td>164</td>\n",
              "      <td>0</td>\n",
              "      <td>85.0</td>\n",
              "      <td>268</td>\n",
              "      <td>M</td>\n",
              "      <td>East Anglian Region</td>\n",
              "      <td>HE Qualification</td>\n",
              "      <td>90-100%</td>\n",
              "      <td>55&lt;=</td>\n",
              "      <td>0</td>\n",
              "      <td>240</td>\n",
              "      <td>N</td>\n",
              "      <td>Pass</td>\n",
              "    </tr>\n",
              "    <tr>\n",
              "      <th>4</th>\n",
              "      <td>AAA</td>\n",
              "      <td>2013J</td>\n",
              "      <td>1756</td>\n",
              "      <td>TMA</td>\n",
              "      <td>215.0</td>\n",
              "      <td>30.0</td>\n",
              "      <td>11391</td>\n",
              "      <td>212</td>\n",
              "      <td>0</td>\n",
              "      <td>82.0</td>\n",
              "      <td>268</td>\n",
              "      <td>M</td>\n",
              "      <td>East Anglian Region</td>\n",
              "      <td>HE Qualification</td>\n",
              "      <td>90-100%</td>\n",
              "      <td>55&lt;=</td>\n",
              "      <td>0</td>\n",
              "      <td>240</td>\n",
              "      <td>N</td>\n",
              "      <td>Pass</td>\n",
              "    </tr>\n",
              "    <tr>\n",
              "      <th>5</th>\n",
              "      <td>AAA</td>\n",
              "      <td>2013J</td>\n",
              "      <td>1752</td>\n",
              "      <td>TMA</td>\n",
              "      <td>19.0</td>\n",
              "      <td>10.0</td>\n",
              "      <td>28400</td>\n",
              "      <td>22</td>\n",
              "      <td>0</td>\n",
              "      <td>70.0</td>\n",
              "      <td>268</td>\n",
              "      <td>F</td>\n",
              "      <td>Scotland</td>\n",
              "      <td>HE Qualification</td>\n",
              "      <td>20-30%</td>\n",
              "      <td>35-55</td>\n",
              "      <td>0</td>\n",
              "      <td>60</td>\n",
              "      <td>N</td>\n",
              "      <td>Pass</td>\n",
              "    </tr>\n",
              "    <tr>\n",
              "      <th>6</th>\n",
              "      <td>AAA</td>\n",
              "      <td>2013J</td>\n",
              "      <td>1753</td>\n",
              "      <td>TMA</td>\n",
              "      <td>54.0</td>\n",
              "      <td>20.0</td>\n",
              "      <td>28400</td>\n",
              "      <td>52</td>\n",
              "      <td>0</td>\n",
              "      <td>68.0</td>\n",
              "      <td>268</td>\n",
              "      <td>F</td>\n",
              "      <td>Scotland</td>\n",
              "      <td>HE Qualification</td>\n",
              "      <td>20-30%</td>\n",
              "      <td>35-55</td>\n",
              "      <td>0</td>\n",
              "      <td>60</td>\n",
              "      <td>N</td>\n",
              "      <td>Pass</td>\n",
              "    </tr>\n",
              "    <tr>\n",
              "      <th>7</th>\n",
              "      <td>AAA</td>\n",
              "      <td>2013J</td>\n",
              "      <td>1754</td>\n",
              "      <td>TMA</td>\n",
              "      <td>117.0</td>\n",
              "      <td>20.0</td>\n",
              "      <td>28400</td>\n",
              "      <td>121</td>\n",
              "      <td>0</td>\n",
              "      <td>70.0</td>\n",
              "      <td>268</td>\n",
              "      <td>F</td>\n",
              "      <td>Scotland</td>\n",
              "      <td>HE Qualification</td>\n",
              "      <td>20-30%</td>\n",
              "      <td>35-55</td>\n",
              "      <td>0</td>\n",
              "      <td>60</td>\n",
              "      <td>N</td>\n",
              "      <td>Pass</td>\n",
              "    </tr>\n",
              "    <tr>\n",
              "      <th>8</th>\n",
              "      <td>AAA</td>\n",
              "      <td>2013J</td>\n",
              "      <td>1755</td>\n",
              "      <td>TMA</td>\n",
              "      <td>166.0</td>\n",
              "      <td>20.0</td>\n",
              "      <td>28400</td>\n",
              "      <td>164</td>\n",
              "      <td>0</td>\n",
              "      <td>64.0</td>\n",
              "      <td>268</td>\n",
              "      <td>F</td>\n",
              "      <td>Scotland</td>\n",
              "      <td>HE Qualification</td>\n",
              "      <td>20-30%</td>\n",
              "      <td>35-55</td>\n",
              "      <td>0</td>\n",
              "      <td>60</td>\n",
              "      <td>N</td>\n",
              "      <td>Pass</td>\n",
              "    </tr>\n",
              "    <tr>\n",
              "      <th>9</th>\n",
              "      <td>AAA</td>\n",
              "      <td>2013J</td>\n",
              "      <td>1756</td>\n",
              "      <td>TMA</td>\n",
              "      <td>215.0</td>\n",
              "      <td>30.0</td>\n",
              "      <td>28400</td>\n",
              "      <td>212</td>\n",
              "      <td>0</td>\n",
              "      <td>60.0</td>\n",
              "      <td>268</td>\n",
              "      <td>F</td>\n",
              "      <td>Scotland</td>\n",
              "      <td>HE Qualification</td>\n",
              "      <td>20-30%</td>\n",
              "      <td>35-55</td>\n",
              "      <td>0</td>\n",
              "      <td>60</td>\n",
              "      <td>N</td>\n",
              "      <td>Pass</td>\n",
              "    </tr>\n",
              "  </tbody>\n",
              "</table>\n",
              "</div>"
            ],
            "text/plain": [
              "  code_module code_presentation  id_assessment assessment_type   date  weight  \\\n",
              "0         AAA             2013J           1752             TMA   19.0    10.0   \n",
              "1         AAA             2013J           1753             TMA   54.0    20.0   \n",
              "2         AAA             2013J           1754             TMA  117.0    20.0   \n",
              "3         AAA             2013J           1755             TMA  166.0    20.0   \n",
              "4         AAA             2013J           1756             TMA  215.0    30.0   \n",
              "5         AAA             2013J           1752             TMA   19.0    10.0   \n",
              "6         AAA             2013J           1753             TMA   54.0    20.0   \n",
              "7         AAA             2013J           1754             TMA  117.0    20.0   \n",
              "8         AAA             2013J           1755             TMA  166.0    20.0   \n",
              "9         AAA             2013J           1756             TMA  215.0    30.0   \n",
              "\n",
              "   id_student  date_submitted  is_banked  score  module_presentation_length  \\\n",
              "0       11391              18          0   78.0                         268   \n",
              "1       11391              53          0   85.0                         268   \n",
              "2       11391             115          0   80.0                         268   \n",
              "3       11391             164          0   85.0                         268   \n",
              "4       11391             212          0   82.0                         268   \n",
              "5       28400              22          0   70.0                         268   \n",
              "6       28400              52          0   68.0                         268   \n",
              "7       28400             121          0   70.0                         268   \n",
              "8       28400             164          0   64.0                         268   \n",
              "9       28400             212          0   60.0                         268   \n",
              "\n",
              "  gender               region highest_education imd_band age_band  \\\n",
              "0      M  East Anglian Region  HE Qualification  90-100%     55<=   \n",
              "1      M  East Anglian Region  HE Qualification  90-100%     55<=   \n",
              "2      M  East Anglian Region  HE Qualification  90-100%     55<=   \n",
              "3      M  East Anglian Region  HE Qualification  90-100%     55<=   \n",
              "4      M  East Anglian Region  HE Qualification  90-100%     55<=   \n",
              "5      F             Scotland  HE Qualification   20-30%    35-55   \n",
              "6      F             Scotland  HE Qualification   20-30%    35-55   \n",
              "7      F             Scotland  HE Qualification   20-30%    35-55   \n",
              "8      F             Scotland  HE Qualification   20-30%    35-55   \n",
              "9      F             Scotland  HE Qualification   20-30%    35-55   \n",
              "\n",
              "   num_of_prev_attempts  studied_credits disability final_result  \n",
              "0                     0              240          N         Pass  \n",
              "1                     0              240          N         Pass  \n",
              "2                     0              240          N         Pass  \n",
              "3                     0              240          N         Pass  \n",
              "4                     0              240          N         Pass  \n",
              "5                     0               60          N         Pass  \n",
              "6                     0               60          N         Pass  \n",
              "7                     0               60          N         Pass  \n",
              "8                     0               60          N         Pass  \n",
              "9                     0               60          N         Pass  "
            ]
          },
          "metadata": {
            "tags": []
          },
          "execution_count": 387
        }
      ]
    },
    {
      "cell_type": "code",
      "metadata": {
        "colab": {
          "base_uri": "https://localhost:8080/",
          "height": 317
        },
        "id": "_sVfUTNQ21p5",
        "outputId": "2790896a-0c72-49aa-d440-8aaf8f144eac"
      },
      "source": [
        "# Estatistica básica do dataset gerado\n",
        "df.describe()"
      ],
      "execution_count": 388,
      "outputs": [
        {
          "output_type": "execute_result",
          "data": {
            "text/html": [
              "<div>\n",
              "<style scoped>\n",
              "    .dataframe tbody tr th:only-of-type {\n",
              "        vertical-align: middle;\n",
              "    }\n",
              "\n",
              "    .dataframe tbody tr th {\n",
              "        vertical-align: top;\n",
              "    }\n",
              "\n",
              "    .dataframe thead th {\n",
              "        text-align: right;\n",
              "    }\n",
              "</style>\n",
              "<table border=\"1\" class=\"dataframe\">\n",
              "  <thead>\n",
              "    <tr style=\"text-align: right;\">\n",
              "      <th></th>\n",
              "      <th>id_assessment</th>\n",
              "      <th>date</th>\n",
              "      <th>weight</th>\n",
              "      <th>id_student</th>\n",
              "      <th>date_submitted</th>\n",
              "      <th>is_banked</th>\n",
              "      <th>score</th>\n",
              "      <th>module_presentation_length</th>\n",
              "      <th>num_of_prev_attempts</th>\n",
              "      <th>studied_credits</th>\n",
              "    </tr>\n",
              "  </thead>\n",
              "  <tbody>\n",
              "    <tr>\n",
              "      <th>count</th>\n",
              "      <td>171855.000000</td>\n",
              "      <td>171855.000000</td>\n",
              "      <td>171855.000000</td>\n",
              "      <td>1.718550e+05</td>\n",
              "      <td>171855.000000</td>\n",
              "      <td>171855.0</td>\n",
              "      <td>171855.000000</td>\n",
              "      <td>171855.000000</td>\n",
              "      <td>171855.000000</td>\n",
              "      <td>171855.000000</td>\n",
              "    </tr>\n",
              "    <tr>\n",
              "      <th>mean</th>\n",
              "      <td>26566.193174</td>\n",
              "      <td>131.122244</td>\n",
              "      <td>12.780553</td>\n",
              "      <td>7.049719e+05</td>\n",
              "      <td>117.436740</td>\n",
              "      <td>0.0</td>\n",
              "      <td>75.815632</td>\n",
              "      <td>255.196235</td>\n",
              "      <td>0.132606</td>\n",
              "      <td>76.587879</td>\n",
              "    </tr>\n",
              "    <tr>\n",
              "      <th>std</th>\n",
              "      <td>8832.975778</td>\n",
              "      <td>77.274263</td>\n",
              "      <td>17.959288</td>\n",
              "      <td>5.511406e+05</td>\n",
              "      <td>70.742626</td>\n",
              "      <td>0.0</td>\n",
              "      <td>18.789357</td>\n",
              "      <td>13.582251</td>\n",
              "      <td>0.428232</td>\n",
              "      <td>37.188801</td>\n",
              "    </tr>\n",
              "    <tr>\n",
              "      <th>min</th>\n",
              "      <td>1752.000000</td>\n",
              "      <td>12.000000</td>\n",
              "      <td>0.000000</td>\n",
              "      <td>6.516000e+03</td>\n",
              "      <td>0.000000</td>\n",
              "      <td>0.0</td>\n",
              "      <td>0.000000</td>\n",
              "      <td>234.000000</td>\n",
              "      <td>0.000000</td>\n",
              "      <td>30.000000</td>\n",
              "    </tr>\n",
              "    <tr>\n",
              "      <th>25%</th>\n",
              "      <td>15022.000000</td>\n",
              "      <td>54.000000</td>\n",
              "      <td>0.000000</td>\n",
              "      <td>5.057000e+05</td>\n",
              "      <td>52.000000</td>\n",
              "      <td>0.0</td>\n",
              "      <td>65.000000</td>\n",
              "      <td>240.000000</td>\n",
              "      <td>0.000000</td>\n",
              "      <td>60.000000</td>\n",
              "    </tr>\n",
              "    <tr>\n",
              "      <th>50%</th>\n",
              "      <td>25359.000000</td>\n",
              "      <td>131.000000</td>\n",
              "      <td>9.000000</td>\n",
              "      <td>5.856110e+05</td>\n",
              "      <td>117.000000</td>\n",
              "      <td>0.0</td>\n",
              "      <td>80.000000</td>\n",
              "      <td>262.000000</td>\n",
              "      <td>0.000000</td>\n",
              "      <td>60.000000</td>\n",
              "    </tr>\n",
              "    <tr>\n",
              "      <th>75%</th>\n",
              "      <td>34883.000000</td>\n",
              "      <td>214.000000</td>\n",
              "      <td>18.000000</td>\n",
              "      <td>6.345520e+05</td>\n",
              "      <td>173.000000</td>\n",
              "      <td>0.0</td>\n",
              "      <td>90.000000</td>\n",
              "      <td>268.000000</td>\n",
              "      <td>0.000000</td>\n",
              "      <td>90.000000</td>\n",
              "    </tr>\n",
              "    <tr>\n",
              "      <th>max</th>\n",
              "      <td>37443.000000</td>\n",
              "      <td>261.000000</td>\n",
              "      <td>100.000000</td>\n",
              "      <td>2.698588e+06</td>\n",
              "      <td>608.000000</td>\n",
              "      <td>0.0</td>\n",
              "      <td>100.000000</td>\n",
              "      <td>269.000000</td>\n",
              "      <td>6.000000</td>\n",
              "      <td>630.000000</td>\n",
              "    </tr>\n",
              "  </tbody>\n",
              "</table>\n",
              "</div>"
            ],
            "text/plain": [
              "       id_assessment           date         weight    id_student  \\\n",
              "count  171855.000000  171855.000000  171855.000000  1.718550e+05   \n",
              "mean    26566.193174     131.122244      12.780553  7.049719e+05   \n",
              "std      8832.975778      77.274263      17.959288  5.511406e+05   \n",
              "min      1752.000000      12.000000       0.000000  6.516000e+03   \n",
              "25%     15022.000000      54.000000       0.000000  5.057000e+05   \n",
              "50%     25359.000000     131.000000       9.000000  5.856110e+05   \n",
              "75%     34883.000000     214.000000      18.000000  6.345520e+05   \n",
              "max     37443.000000     261.000000     100.000000  2.698588e+06   \n",
              "\n",
              "       date_submitted  is_banked          score  module_presentation_length  \\\n",
              "count   171855.000000   171855.0  171855.000000               171855.000000   \n",
              "mean       117.436740        0.0      75.815632                  255.196235   \n",
              "std         70.742626        0.0      18.789357                   13.582251   \n",
              "min          0.000000        0.0       0.000000                  234.000000   \n",
              "25%         52.000000        0.0      65.000000                  240.000000   \n",
              "50%        117.000000        0.0      80.000000                  262.000000   \n",
              "75%        173.000000        0.0      90.000000                  268.000000   \n",
              "max        608.000000        0.0     100.000000                  269.000000   \n",
              "\n",
              "       num_of_prev_attempts  studied_credits  \n",
              "count         171855.000000    171855.000000  \n",
              "mean               0.132606        76.587879  \n",
              "std                0.428232        37.188801  \n",
              "min                0.000000        30.000000  \n",
              "25%                0.000000        60.000000  \n",
              "50%                0.000000        60.000000  \n",
              "75%                0.000000        90.000000  \n",
              "max                6.000000       630.000000  "
            ]
          },
          "metadata": {
            "tags": []
          },
          "execution_count": 388
        }
      ]
    },
    {
      "cell_type": "markdown",
      "metadata": {
        "id": "yVA7N8___0kw"
      },
      "source": [
        "### Pela estatistica descritiva identifica-se valores altos que podem ser considerados outliers, pois estão acima ou abaixo de valores minimos e máximos. Esses valores são calculados a partir do valor do iqr.\n",
        "### Valores outliers impactam na performance do modelo a ser gerado."
      ]
    },
    {
      "cell_type": "code",
      "metadata": {
        "id": "zNCS4Y1JaoGJ"
      },
      "source": [
        "def remove_outlier(df_in, col_name):\n",
        "    q1 = df_in[col_name].quantile(0.25)\n",
        "    q3 = df_in[col_name].quantile(0.75)\n",
        "    iqr = q3-q1 #Interquartile range\n",
        "    fence_low  = q1-1.5*iqr\n",
        "    fence_high = q3+1.5*iqr\n",
        "    df_out = df_in.loc[(df_in[col_name] > fence_low) & (df_in[col_name] < fence_high)]\n",
        "    return df_out"
      ],
      "execution_count": 389,
      "outputs": []
    },
    {
      "cell_type": "code",
      "metadata": {
        "id": "6CxH-jORZz0F"
      },
      "source": [
        "def plot_outliers(df,var):\n",
        "  sns.boxplot(x=df[var]);"
      ],
      "execution_count": 390,
      "outputs": []
    },
    {
      "cell_type": "code",
      "metadata": {
        "colab": {
          "base_uri": "https://localhost:8080/",
          "height": 285
        },
        "id": "PfLVKzcFZ20c",
        "outputId": "167ee115-42e6-454f-bdb3-d50a5c4c6bcb"
      },
      "source": [
        "plot_outliers(df,'date_submitted')"
      ],
      "execution_count": 391,
      "outputs": [
        {
          "output_type": "display_data",
          "data": {
            "image/png": "[encoded data removed]",
            "text/plain": [
              "<Figure size 432x288 with 1 Axes>"
            ]
          },
          "metadata": {
            "tags": []
          }
        }
      ]
    },
    {
      "cell_type": "code",
      "metadata": {
        "id": "Z4RqbjDHbwKz"
      },
      "source": [
        "df_o = remove_outlier(df,'date_submitted')"
      ],
      "execution_count": 392,
      "outputs": []
    },
    {
      "cell_type": "code",
      "metadata": {
        "colab": {
          "base_uri": "https://localhost:8080/",
          "height": 285
        },
        "id": "vPyrwCjhcG47",
        "outputId": "24f27403-5d6b-4b8a-9ec0-410b276fea0d"
      },
      "source": [
        "plot_outliers(df_o,'date_submitted')"
      ],
      "execution_count": 393,
      "outputs": [
        {
          "output_type": "display_data",
          "data": {
            "image/png": "[encoded data removed]",
            "text/plain": [
              "<Figure size 432x288 with 1 Axes>"
            ]
          },
          "metadata": {
            "tags": []
          }
        }
      ]
    },
    {
      "cell_type": "code",
      "metadata": {
        "colab": {
          "base_uri": "https://localhost:8080/",
          "height": 285
        },
        "id": "MMbxcZ3_c288",
        "outputId": "65de85d8-dd33-4503-f959-6afbc4ec05e9"
      },
      "source": [
        "plot_outliers(df_o,'studied_credits')"
      ],
      "execution_count": 394,
      "outputs": [
        {
          "output_type": "display_data",
          "data": {
            "image/png": "[encoded data removed]",
            "text/plain": [
              "<Figure size 432x288 with 1 Axes>"
            ]
          },
          "metadata": {
            "tags": []
          }
        }
      ]
    },
    {
      "cell_type": "code",
      "metadata": {
        "id": "EDJmLBo6cp2G"
      },
      "source": [
        "df_o = remove_outlier(df_o,'studied_credits')"
      ],
      "execution_count": 395,
      "outputs": []
    },
    {
      "cell_type": "code",
      "metadata": {
        "colab": {
          "base_uri": "https://localhost:8080/",
          "height": 285
        },
        "id": "UG6eip00dF_7",
        "outputId": "e0863e7c-a099-4e8d-9acb-cceda487e7dc"
      },
      "source": [
        "plot_outliers(df_o,'studied_credits')"
      ],
      "execution_count": 396,
      "outputs": [
        {
          "output_type": "display_data",
          "data": {
            "image/png": "[encoded data removed]",
            "text/plain": [
              "<Figure size 432x288 with 1 Axes>"
            ]
          },
          "metadata": {
            "tags": []
          }
        }
      ]
    },
    {
      "cell_type": "code",
      "metadata": {
        "id": "Kp6jK9bodWYD"
      },
      "source": [
        "df = df_o"
      ],
      "execution_count": 397,
      "outputs": []
    },
    {
      "cell_type": "code",
      "metadata": {
        "colab": {
          "base_uri": "https://localhost:8080/",
          "height": 317
        },
        "id": "WzL5i0fXMMEn",
        "outputId": "54b8e780-5ae1-4dc1-bea5-0ba9fd317fad"
      },
      "source": [
        "df.describe()"
      ],
      "execution_count": 398,
      "outputs": [
        {
          "output_type": "execute_result",
          "data": {
            "text/html": [
              "<div>\n",
              "<style scoped>\n",
              "    .dataframe tbody tr th:only-of-type {\n",
              "        vertical-align: middle;\n",
              "    }\n",
              "\n",
              "    .dataframe tbody tr th {\n",
              "        vertical-align: top;\n",
              "    }\n",
              "\n",
              "    .dataframe thead th {\n",
              "        text-align: right;\n",
              "    }\n",
              "</style>\n",
              "<table border=\"1\" class=\"dataframe\">\n",
              "  <thead>\n",
              "    <tr style=\"text-align: right;\">\n",
              "      <th></th>\n",
              "      <th>id_assessment</th>\n",
              "      <th>date</th>\n",
              "      <th>weight</th>\n",
              "      <th>id_student</th>\n",
              "      <th>date_submitted</th>\n",
              "      <th>is_banked</th>\n",
              "      <th>score</th>\n",
              "      <th>module_presentation_length</th>\n",
              "      <th>num_of_prev_attempts</th>\n",
              "      <th>studied_credits</th>\n",
              "    </tr>\n",
              "  </thead>\n",
              "  <tbody>\n",
              "    <tr>\n",
              "      <th>count</th>\n",
              "      <td>162943.000000</td>\n",
              "      <td>162943.000000</td>\n",
              "      <td>162943.000000</td>\n",
              "      <td>1.629430e+05</td>\n",
              "      <td>162943.000000</td>\n",
              "      <td>162943.0</td>\n",
              "      <td>162943.000000</td>\n",
              "      <td>162943.000000</td>\n",
              "      <td>162943.000000</td>\n",
              "      <td>162943.000000</td>\n",
              "    </tr>\n",
              "    <tr>\n",
              "      <th>mean</th>\n",
              "      <td>26543.912755</td>\n",
              "      <td>131.214166</td>\n",
              "      <td>12.797626</td>\n",
              "      <td>7.033285e+05</td>\n",
              "      <td>117.515284</td>\n",
              "      <td>0.0</td>\n",
              "      <td>75.982854</td>\n",
              "      <td>255.289175</td>\n",
              "      <td>0.118532</td>\n",
              "      <td>71.029072</td>\n",
              "    </tr>\n",
              "    <tr>\n",
              "      <th>std</th>\n",
              "      <td>8841.261689</td>\n",
              "      <td>77.139225</td>\n",
              "      <td>17.998975</td>\n",
              "      <td>5.446214e+05</td>\n",
              "      <td>70.270247</td>\n",
              "      <td>0.0</td>\n",
              "      <td>18.752875</td>\n",
              "      <td>13.554023</td>\n",
              "      <td>0.410225</td>\n",
              "      <td>27.815637</td>\n",
              "    </tr>\n",
              "    <tr>\n",
              "      <th>min</th>\n",
              "      <td>1752.000000</td>\n",
              "      <td>12.000000</td>\n",
              "      <td>0.000000</td>\n",
              "      <td>6.516000e+03</td>\n",
              "      <td>0.000000</td>\n",
              "      <td>0.0</td>\n",
              "      <td>0.000000</td>\n",
              "      <td>234.000000</td>\n",
              "      <td>0.000000</td>\n",
              "      <td>30.000000</td>\n",
              "    </tr>\n",
              "    <tr>\n",
              "      <th>25%</th>\n",
              "      <td>15022.000000</td>\n",
              "      <td>54.000000</td>\n",
              "      <td>0.000000</td>\n",
              "      <td>5.113450e+05</td>\n",
              "      <td>52.000000</td>\n",
              "      <td>0.0</td>\n",
              "      <td>66.000000</td>\n",
              "      <td>241.000000</td>\n",
              "      <td>0.000000</td>\n",
              "      <td>60.000000</td>\n",
              "    </tr>\n",
              "    <tr>\n",
              "      <th>50%</th>\n",
              "      <td>25359.000000</td>\n",
              "      <td>131.000000</td>\n",
              "      <td>9.000000</td>\n",
              "      <td>5.869170e+05</td>\n",
              "      <td>117.000000</td>\n",
              "      <td>0.0</td>\n",
              "      <td>80.000000</td>\n",
              "      <td>262.000000</td>\n",
              "      <td>0.000000</td>\n",
              "      <td>60.000000</td>\n",
              "    </tr>\n",
              "    <tr>\n",
              "      <th>75%</th>\n",
              "      <td>34883.000000</td>\n",
              "      <td>208.000000</td>\n",
              "      <td>18.000000</td>\n",
              "      <td>6.345260e+05</td>\n",
              "      <td>173.000000</td>\n",
              "      <td>0.0</td>\n",
              "      <td>90.000000</td>\n",
              "      <td>268.000000</td>\n",
              "      <td>0.000000</td>\n",
              "      <td>90.000000</td>\n",
              "    </tr>\n",
              "    <tr>\n",
              "      <th>max</th>\n",
              "      <td>37443.000000</td>\n",
              "      <td>261.000000</td>\n",
              "      <td>100.000000</td>\n",
              "      <td>2.698588e+06</td>\n",
              "      <td>342.000000</td>\n",
              "      <td>0.0</td>\n",
              "      <td>100.000000</td>\n",
              "      <td>269.000000</td>\n",
              "      <td>6.000000</td>\n",
              "      <td>130.000000</td>\n",
              "    </tr>\n",
              "  </tbody>\n",
              "</table>\n",
              "</div>"
            ],
            "text/plain": [
              "       id_assessment           date         weight    id_student  \\\n",
              "count  162943.000000  162943.000000  162943.000000  1.629430e+05   \n",
              "mean    26543.912755     131.214166      12.797626  7.033285e+05   \n",
              "std      8841.261689      77.139225      17.998975  5.446214e+05   \n",
              "min      1752.000000      12.000000       0.000000  6.516000e+03   \n",
              "25%     15022.000000      54.000000       0.000000  5.113450e+05   \n",
              "50%     25359.000000     131.000000       9.000000  5.869170e+05   \n",
              "75%     34883.000000     208.000000      18.000000  6.345260e+05   \n",
              "max     37443.000000     261.000000     100.000000  2.698588e+06   \n",
              "\n",
              "       date_submitted  is_banked          score  module_presentation_length  \\\n",
              "count   162943.000000   162943.0  162943.000000               162943.000000   \n",
              "mean       117.515284        0.0      75.982854                  255.289175   \n",
              "std         70.270247        0.0      18.752875                   13.554023   \n",
              "min          0.000000        0.0       0.000000                  234.000000   \n",
              "25%         52.000000        0.0      66.000000                  241.000000   \n",
              "50%        117.000000        0.0      80.000000                  262.000000   \n",
              "75%        173.000000        0.0      90.000000                  268.000000   \n",
              "max        342.000000        0.0     100.000000                  269.000000   \n",
              "\n",
              "       num_of_prev_attempts  studied_credits  \n",
              "count         162943.000000    162943.000000  \n",
              "mean               0.118532        71.029072  \n",
              "std                0.410225        27.815637  \n",
              "min                0.000000        30.000000  \n",
              "25%                0.000000        60.000000  \n",
              "50%                0.000000        60.000000  \n",
              "75%                0.000000        90.000000  \n",
              "max                6.000000       130.000000  "
            ]
          },
          "metadata": {
            "tags": []
          },
          "execution_count": 398
        }
      ]
    },
    {
      "cell_type": "code",
      "metadata": {
        "id": "1KHJz35D6pew"
      },
      "source": [
        "# Remover colunas não serão utilizadas\n",
        "df.drop(columns=['id_assessment','id_student', 'is_banked'],inplace=True)"
      ],
      "execution_count": 399,
      "outputs": []
    },
    {
      "cell_type": "code",
      "metadata": {
        "colab": {
          "base_uri": "https://localhost:8080/",
          "height": 224
        },
        "id": "G9uw1CLkETeN",
        "outputId": "09e33742-0816-4d6e-9167-67a43e412bfb"
      },
      "source": [
        "df.head()"
      ],
      "execution_count": 400,
      "outputs": [
        {
          "output_type": "execute_result",
          "data": {
            "text/html": [
              "<div>\n",
              "<style scoped>\n",
              "    .dataframe tbody tr th:only-of-type {\n",
              "        vertical-align: middle;\n",
              "    }\n",
              "\n",
              "    .dataframe tbody tr th {\n",
              "        vertical-align: top;\n",
              "    }\n",
              "\n",
              "    .dataframe thead th {\n",
              "        text-align: right;\n",
              "    }\n",
              "</style>\n",
              "<table border=\"1\" class=\"dataframe\">\n",
              "  <thead>\n",
              "    <tr style=\"text-align: right;\">\n",
              "      <th></th>\n",
              "      <th>code_module</th>\n",
              "      <th>code_presentation</th>\n",
              "      <th>assessment_type</th>\n",
              "      <th>date</th>\n",
              "      <th>weight</th>\n",
              "      <th>date_submitted</th>\n",
              "      <th>score</th>\n",
              "      <th>module_presentation_length</th>\n",
              "      <th>gender</th>\n",
              "      <th>region</th>\n",
              "      <th>highest_education</th>\n",
              "      <th>imd_band</th>\n",
              "      <th>age_band</th>\n",
              "      <th>num_of_prev_attempts</th>\n",
              "      <th>studied_credits</th>\n",
              "      <th>disability</th>\n",
              "      <th>final_result</th>\n",
              "    </tr>\n",
              "  </thead>\n",
              "  <tbody>\n",
              "    <tr>\n",
              "      <th>5</th>\n",
              "      <td>AAA</td>\n",
              "      <td>2013J</td>\n",
              "      <td>TMA</td>\n",
              "      <td>19.0</td>\n",
              "      <td>10.0</td>\n",
              "      <td>22</td>\n",
              "      <td>70.0</td>\n",
              "      <td>268</td>\n",
              "      <td>F</td>\n",
              "      <td>Scotland</td>\n",
              "      <td>HE Qualification</td>\n",
              "      <td>20-30%</td>\n",
              "      <td>35-55</td>\n",
              "      <td>0</td>\n",
              "      <td>60</td>\n",
              "      <td>N</td>\n",
              "      <td>Pass</td>\n",
              "    </tr>\n",
              "    <tr>\n",
              "      <th>6</th>\n",
              "      <td>AAA</td>\n",
              "      <td>2013J</td>\n",
              "      <td>TMA</td>\n",
              "      <td>54.0</td>\n",
              "      <td>20.0</td>\n",
              "      <td>52</td>\n",
              "      <td>68.0</td>\n",
              "      <td>268</td>\n",
              "      <td>F</td>\n",
              "      <td>Scotland</td>\n",
              "      <td>HE Qualification</td>\n",
              "      <td>20-30%</td>\n",
              "      <td>35-55</td>\n",
              "      <td>0</td>\n",
              "      <td>60</td>\n",
              "      <td>N</td>\n",
              "      <td>Pass</td>\n",
              "    </tr>\n",
              "    <tr>\n",
              "      <th>7</th>\n",
              "      <td>AAA</td>\n",
              "      <td>2013J</td>\n",
              "      <td>TMA</td>\n",
              "      <td>117.0</td>\n",
              "      <td>20.0</td>\n",
              "      <td>121</td>\n",
              "      <td>70.0</td>\n",
              "      <td>268</td>\n",
              "      <td>F</td>\n",
              "      <td>Scotland</td>\n",
              "      <td>HE Qualification</td>\n",
              "      <td>20-30%</td>\n",
              "      <td>35-55</td>\n",
              "      <td>0</td>\n",
              "      <td>60</td>\n",
              "      <td>N</td>\n",
              "      <td>Pass</td>\n",
              "    </tr>\n",
              "    <tr>\n",
              "      <th>8</th>\n",
              "      <td>AAA</td>\n",
              "      <td>2013J</td>\n",
              "      <td>TMA</td>\n",
              "      <td>166.0</td>\n",
              "      <td>20.0</td>\n",
              "      <td>164</td>\n",
              "      <td>64.0</td>\n",
              "      <td>268</td>\n",
              "      <td>F</td>\n",
              "      <td>Scotland</td>\n",
              "      <td>HE Qualification</td>\n",
              "      <td>20-30%</td>\n",
              "      <td>35-55</td>\n",
              "      <td>0</td>\n",
              "      <td>60</td>\n",
              "      <td>N</td>\n",
              "      <td>Pass</td>\n",
              "    </tr>\n",
              "    <tr>\n",
              "      <th>9</th>\n",
              "      <td>AAA</td>\n",
              "      <td>2013J</td>\n",
              "      <td>TMA</td>\n",
              "      <td>215.0</td>\n",
              "      <td>30.0</td>\n",
              "      <td>212</td>\n",
              "      <td>60.0</td>\n",
              "      <td>268</td>\n",
              "      <td>F</td>\n",
              "      <td>Scotland</td>\n",
              "      <td>HE Qualification</td>\n",
              "      <td>20-30%</td>\n",
              "      <td>35-55</td>\n",
              "      <td>0</td>\n",
              "      <td>60</td>\n",
              "      <td>N</td>\n",
              "      <td>Pass</td>\n",
              "    </tr>\n",
              "  </tbody>\n",
              "</table>\n",
              "</div>"
            ],
            "text/plain": [
              "  code_module code_presentation assessment_type   date  weight  \\\n",
              "5         AAA             2013J             TMA   19.0    10.0   \n",
              "6         AAA             2013J             TMA   54.0    20.0   \n",
              "7         AAA             2013J             TMA  117.0    20.0   \n",
              "8         AAA             2013J             TMA  166.0    20.0   \n",
              "9         AAA             2013J             TMA  215.0    30.0   \n",
              "\n",
              "   date_submitted  score  module_presentation_length gender    region  \\\n",
              "5              22   70.0                         268      F  Scotland   \n",
              "6              52   68.0                         268      F  Scotland   \n",
              "7             121   70.0                         268      F  Scotland   \n",
              "8             164   64.0                         268      F  Scotland   \n",
              "9             212   60.0                         268      F  Scotland   \n",
              "\n",
              "  highest_education imd_band age_band  num_of_prev_attempts  studied_credits  \\\n",
              "5  HE Qualification   20-30%    35-55                     0               60   \n",
              "6  HE Qualification   20-30%    35-55                     0               60   \n",
              "7  HE Qualification   20-30%    35-55                     0               60   \n",
              "8  HE Qualification   20-30%    35-55                     0               60   \n",
              "9  HE Qualification   20-30%    35-55                     0               60   \n",
              "\n",
              "  disability final_result  \n",
              "5          N         Pass  \n",
              "6          N         Pass  \n",
              "7          N         Pass  \n",
              "8          N         Pass  \n",
              "9          N         Pass  "
            ]
          },
          "metadata": {
            "tags": []
          },
          "execution_count": 400
        }
      ]
    },
    {
      "cell_type": "code",
      "metadata": {
        "colab": {
          "base_uri": "https://localhost:8080/"
        },
        "id": "mbqhy9xv8a5O",
        "outputId": "20528e2e-360e-4efe-e856-9a18869e1560"
      },
      "source": [
        "# Total de alunos por módulo\n",
        "df.code_module.value_counts()"
      ],
      "execution_count": 401,
      "outputs": [
        {
          "output_type": "execute_result",
          "data": {
            "text/plain": [
              "FFF    50145\n",
              "BBB    40564\n",
              "DDD    28709\n",
              "CCC    17864\n",
              "GGG    15132\n",
              "EEE     7616\n",
              "AAA     2913\n",
              "Name: code_module, dtype: int64"
            ]
          },
          "metadata": {
            "tags": []
          },
          "execution_count": 401
        }
      ]
    },
    {
      "cell_type": "markdown",
      "metadata": {
        "id": "Fsum8hNwBWHl"
      },
      "source": [
        "### O gráfico mostra que existem módulos com muita variação no número de alunos."
      ]
    },
    {
      "cell_type": "code",
      "metadata": {
        "colab": {
          "base_uri": "https://localhost:8080/",
          "height": 638
        },
        "id": "ia_xEkOd9SdU",
        "outputId": "cc6d6a63-6a90-4a8d-bdb8-0871da9d8b01"
      },
      "source": [
        "plt.figure(figsize=(18,10))\n",
        "ax = sns.countplot(x='code_module', data=df, order=df['code_module'].value_counts().index)\n",
        "ax.set_xticklabels(ax.get_xticklabels(), rotation=45, ha=\"right\", fontsize=8)\n",
        "plt.title('Total de alunos por código do módulo ', fontsize=14, fontweight='bold');"
      ],
      "execution_count": 402,
      "outputs": [
        {
          "output_type": "display_data",
          "data": {
            "image/png": "[encoded data removed]",
            "text/plain": [
              "<Figure size 1296x720 with 1 Axes>"
            ]
          },
          "metadata": {
            "tags": []
          }
        }
      ]
    },
    {
      "cell_type": "code",
      "metadata": {
        "colab": {
          "base_uri": "https://localhost:8080/"
        },
        "id": "8F83GTGU8leu",
        "outputId": "245a42a7-230f-4f8d-cf1c-41d32dfeb19c"
      },
      "source": [
        "# Total de alunos código de apresentação\n",
        "df.code_presentation.value_counts()"
      ],
      "execution_count": 403,
      "outputs": [
        {
          "output_type": "execute_result",
          "data": {
            "text/plain": [
              "2014J    49081\n",
              "2013J    46127\n",
              "2014B    36731\n",
              "2013B    31004\n",
              "Name: code_presentation, dtype: int64"
            ]
          },
          "metadata": {
            "tags": []
          },
          "execution_count": 403
        }
      ]
    },
    {
      "cell_type": "code",
      "metadata": {
        "colab": {
          "base_uri": "https://localhost:8080/",
          "height": 643
        },
        "id": "_rRguHIw9tUl",
        "outputId": "8d62d607-3442-4b17-9b0a-c21f73326901"
      },
      "source": [
        "plt.figure(figsize=(18,10))\n",
        "ax = sns.countplot(x='code_presentation', data=df, order=df['code_presentation'].value_counts().index)\n",
        "ax.set_xticklabels(ax.get_xticklabels(), rotation=45, ha=\"right\", fontsize=8)\n",
        "plt.title('Total de alunos pelo código da apresentação ', fontsize=14, fontweight='bold');\n"
      ],
      "execution_count": 404,
      "outputs": [
        {
          "output_type": "display_data",
          "data": {
            "image/png": "[encoded data removed]",
            "text/plain": [
              "<Figure size 1296x720 with 1 Axes>"
            ]
          },
          "metadata": {
            "tags": []
          }
        }
      ]
    },
    {
      "cell_type": "code",
      "metadata": {
        "colab": {
          "base_uri": "https://localhost:8080/"
        },
        "id": "uj4Hjdy785EL",
        "outputId": "5a966023-b731-4007-96b8-0955655d4f21"
      },
      "source": [
        "# Total de alunos por tipo de avaliação\n",
        "df.assessment_type.value_counts()"
      ],
      "execution_count": 405,
      "outputs": [
        {
          "output_type": "execute_result",
          "data": {
            "text/plain": [
              "TMA     92146\n",
              "CMA     66073\n",
              "Exam     4724\n",
              "Name: assessment_type, dtype: int64"
            ]
          },
          "metadata": {
            "tags": []
          },
          "execution_count": 405
        }
      ]
    },
    {
      "cell_type": "markdown",
      "metadata": {
        "id": "WdOZGXsDCBLc"
      },
      "source": [
        "### A distribuição dos scores não apresenta uma forma normal. \n",
        "### O conjunto de scores é relativo a performance em todos módulos e como já foi visto existe uma grande variação no número de alunos por módulo."
      ]
    },
    {
      "cell_type": "code",
      "metadata": {
        "colab": {
          "base_uri": "https://localhost:8080/",
          "height": 285
        },
        "id": "H4QxYfeNEvgg",
        "outputId": "088146e0-11bd-4e85-818a-e44c01c7c977"
      },
      "source": [
        "# Distribuição dos scores\n",
        "sns.distplot(df['score']);"
      ],
      "execution_count": 406,
      "outputs": [
        {
          "output_type": "display_data",
          "data": {
            "image/png": "[encoded data removed]",
            "text/plain": [
              "<Figure size 432x288 with 1 Axes>"
            ]
          },
          "metadata": {
            "tags": []
          }
        }
      ]
    },
    {
      "cell_type": "code",
      "metadata": {
        "colab": {
          "base_uri": "https://localhost:8080/"
        },
        "id": "t9Tc3prFFgz-",
        "outputId": "31cef422-a425-416d-85b1-adc515f60f6a"
      },
      "source": [
        "# Totais de alunos representantes: masculinos e femininos\n",
        "df.gender.value_counts()"
      ],
      "execution_count": 407,
      "outputs": [
        {
          "output_type": "execute_result",
          "data": {
            "text/plain": [
              "M    87653\n",
              "F    75290\n",
              "Name: gender, dtype: int64"
            ]
          },
          "metadata": {
            "tags": []
          },
          "execution_count": 407
        }
      ]
    },
    {
      "cell_type": "code",
      "metadata": {
        "colab": {
          "base_uri": "https://localhost:8080/"
        },
        "id": "9bw_8SZWGfem",
        "outputId": "a339ef1f-b207-4296-9002-5640cab5826e"
      },
      "source": [
        "# Totais de alunos por região\n",
        "df.region.value_counts()"
      ],
      "execution_count": 408,
      "outputs": [
        {
          "output_type": "execute_result",
          "data": {
            "text/plain": [
              "East Anglian Region     17186\n",
              "Scotland                17093\n",
              "South Region            16649\n",
              "London Region           15250\n",
              "North Western Region    13074\n",
              "South West Region       12591\n",
              "West Midlands Region    12228\n",
              "East Midlands Region    11518\n",
              "South East Region       11014\n",
              "Wales                   10389\n",
              "North Region             9567\n",
              "Yorkshire Region         9526\n",
              "Ireland                  6858\n",
              "Name: region, dtype: int64"
            ]
          },
          "metadata": {
            "tags": []
          },
          "execution_count": 408
        }
      ]
    },
    {
      "cell_type": "code",
      "metadata": {
        "colab": {
          "base_uri": "https://localhost:8080/"
        },
        "id": "WmHLjwI2G6We",
        "outputId": "680c5f78-91cb-4ff3-a322-aff5d8cab900"
      },
      "source": [
        "# Totais de alunos por maior graduação obtida\n",
        "df.highest_education.value_counts()"
      ],
      "execution_count": 409,
      "outputs": [
        {
          "output_type": "execute_result",
          "data": {
            "text/plain": [
              "A Level or Equivalent          74732\n",
              "Lower Than A Level             59447\n",
              "HE Qualification               25617\n",
              "Post Graduate Qualification     1836\n",
              "No Formal quals                 1311\n",
              "Name: highest_education, dtype: int64"
            ]
          },
          "metadata": {
            "tags": []
          },
          "execution_count": 409
        }
      ]
    },
    {
      "cell_type": "code",
      "metadata": {
        "colab": {
          "base_uri": "https://localhost:8080/",
          "height": 702
        },
        "id": "KHmUAtFCTWfr",
        "outputId": "2768a30c-5d53-412a-ac3b-25ac1a2c6587"
      },
      "source": [
        "# Plotando o número de alunos pela mais alta educação obtida  \n",
        "plt.figure(figsize=(18,10))\n",
        "ax = sns.countplot(x='highest_education', data=df, order=df['highest_education'].value_counts().index)\n",
        "ax.set_xticklabels(ax.get_xticklabels(), rotation=45, ha=\"right\", fontsize=8)\n",
        "plt.title('Total de alunos pela mais alta educação obtida ', fontsize=14, fontweight='bold')\n",
        "plt.show()"
      ],
      "execution_count": 410,
      "outputs": [
        {
          "output_type": "display_data",
          "data": {
            "image/png": "[encoded data removed]",
            "text/plain": [
              "<Figure size 1296x720 with 1 Axes>"
            ]
          },
          "metadata": {
            "tags": []
          }
        }
      ]
    },
    {
      "cell_type": "code",
      "metadata": {
        "colab": {
          "base_uri": "https://localhost:8080/"
        },
        "id": "iGb7jfaWICrG",
        "outputId": "5a76705e-556f-4963-875e-17556c7c0b77"
      },
      "source": [
        "# Totais de alunos por imd_band\n",
        "df.imd_band.value_counts()"
      ],
      "execution_count": 411,
      "outputs": [
        {
          "output_type": "execute_result",
          "data": {
            "text/plain": [
              "30-40%     25169\n",
              "20-30%     16189\n",
              "50-60%     16010\n",
              "40-50%     15928\n",
              "10-20      15725\n",
              "70-80%     15294\n",
              "60-70%     15287\n",
              "80-90%     14849\n",
              "90-100%    14293\n",
              "0-10%      14199\n",
              "Name: imd_band, dtype: int64"
            ]
          },
          "metadata": {
            "tags": []
          },
          "execution_count": 411
        }
      ]
    },
    {
      "cell_type": "code",
      "metadata": {
        "colab": {
          "base_uri": "https://localhost:8080/"
        },
        "id": "IlD8P8a1HXlO",
        "outputId": "995da7a4-2476-4bce-9a49-75ef47191c7e"
      },
      "source": [
        "# Totais de alunos por faixa de idade\n",
        "df.age_band.value_counts()"
      ],
      "execution_count": 412,
      "outputs": [
        {
          "output_type": "execute_result",
          "data": {
            "text/plain": [
              "0-35     111406\n",
              "35-55     50439\n",
              "55<=       1098\n",
              "Name: age_band, dtype: int64"
            ]
          },
          "metadata": {
            "tags": []
          },
          "execution_count": 412
        }
      ]
    },
    {
      "cell_type": "markdown",
      "metadata": {
        "id": "aoXhhHnUDA9b"
      },
      "source": [
        "### A grande maioria dos alunos realizou o teste pela primeira vez."
      ]
    },
    {
      "cell_type": "code",
      "metadata": {
        "colab": {
          "base_uri": "https://localhost:8080/"
        },
        "id": "WJtHDU-IINi7",
        "outputId": "bcd15001-8173-49f1-9f73-da890b3a1686"
      },
      "source": [
        "# Totais de alunos por numero de tentativas anteriores\n",
        "df.num_of_prev_attempts.value_counts()"
      ],
      "execution_count": 413,
      "outputs": [
        {
          "output_type": "execute_result",
          "data": {
            "text/plain": [
              "0    147609\n",
              "1     12248\n",
              "2      2442\n",
              "3       455\n",
              "4       141\n",
              "5        35\n",
              "6        13\n",
              "Name: num_of_prev_attempts, dtype: int64"
            ]
          },
          "metadata": {
            "tags": []
          },
          "execution_count": 413
        }
      ]
    },
    {
      "cell_type": "code",
      "metadata": {
        "colab": {
          "base_uri": "https://localhost:8080/",
          "height": 285
        },
        "id": "PMLDW7GlIh38",
        "outputId": "8e650f0c-2ded-4d3a-e621-8469a33c75a6"
      },
      "source": [
        "# Distribuição do numero de tentativas anteriores\n",
        "sns.distplot(df['num_of_prev_attempts']);"
      ],
      "execution_count": 414,
      "outputs": [
        {
          "output_type": "display_data",
          "data": {
            "image/png": "[encoded data removed]",
            "text/plain": [
              "<Figure size 432x288 with 1 Axes>"
            ]
          },
          "metadata": {
            "tags": []
          }
        }
      ]
    },
    {
      "cell_type": "code",
      "metadata": {
        "colab": {
          "base_uri": "https://localhost:8080/"
        },
        "id": "C981fBOMJNOF",
        "outputId": "b664db2d-c4b7-4b63-8460-0c03f42b9677"
      },
      "source": [
        "# Totais de alunos por valor de creditos estudados\n",
        "df.studied_credits.value_counts()"
      ],
      "execution_count": 415,
      "outputs": [
        {
          "output_type": "execute_result",
          "data": {
            "text/plain": [
              "60     93831\n",
              "120    31049\n",
              "30     19679\n",
              "90     16048\n",
              "75       681\n",
              "70       632\n",
              "130      196\n",
              "80       179\n",
              "45       178\n",
              "100      160\n",
              "40       108\n",
              "110       72\n",
              "105       60\n",
              "50        19\n",
              "95        15\n",
              "115       14\n",
              "85        12\n",
              "55         6\n",
              "65         4\n",
              "Name: studied_credits, dtype: int64"
            ]
          },
          "metadata": {
            "tags": []
          },
          "execution_count": 415
        }
      ]
    },
    {
      "cell_type": "code",
      "metadata": {
        "colab": {
          "base_uri": "https://localhost:8080/",
          "height": 287
        },
        "id": "TDR1M20yJp8t",
        "outputId": "23adde51-b0f4-4b9c-e5d1-cce8b001a068"
      },
      "source": [
        "# Distribuição do numero de tentativas anteriores\n",
        "sns.distplot(df['studied_credits']);"
      ],
      "execution_count": 416,
      "outputs": [
        {
          "output_type": "display_data",
          "data": {
            "image/png": "[encoded data removed]",
            "text/plain": [
              "<Figure size 432x288 with 1 Axes>"
            ]
          },
          "metadata": {
            "tags": []
          }
        }
      ]
    },
    {
      "cell_type": "code",
      "metadata": {
        "colab": {
          "base_uri": "https://localhost:8080/"
        },
        "id": "inircXgCMOA8",
        "outputId": "b7f7e698-26ef-4c7a-d6e4-ca3d8ea35f9c"
      },
      "source": [
        "# Totais de alunos com algumas deficiência\n",
        "df.disability.value_counts()"
      ],
      "execution_count": 417,
      "outputs": [
        {
          "output_type": "execute_result",
          "data": {
            "text/plain": [
              "N    149176\n",
              "Y     13767\n",
              "Name: disability, dtype: int64"
            ]
          },
          "metadata": {
            "tags": []
          },
          "execution_count": 417
        }
      ]
    },
    {
      "cell_type": "code",
      "metadata": {
        "colab": {
          "base_uri": "https://localhost:8080/"
        },
        "id": "YcBwg0XVMZOW",
        "outputId": "cbf995ef-d9e6-464e-edca-0594bb81f5bd"
      },
      "source": [
        "# Totais de alunos por resultado final\n",
        "df.final_result.value_counts()"
      ],
      "execution_count": 418,
      "outputs": [
        {
          "output_type": "execute_result",
          "data": {
            "text/plain": [
              "Pass           100151\n",
              "Fail            25880\n",
              "Distinction     25343\n",
              "Withdrawn       11569\n",
              "Name: final_result, dtype: int64"
            ]
          },
          "metadata": {
            "tags": []
          },
          "execution_count": 418
        }
      ]
    },
    {
      "cell_type": "code",
      "metadata": {
        "colab": {
          "base_uri": "https://localhost:8080/",
          "height": 470
        },
        "id": "K142muP_NYe4",
        "outputId": "a0549192-e6a6-4063-bdfb-eaa423766584"
      },
      "source": [
        "# Distribuição dos resultados finais por genero\n",
        "mx = sns.catplot(x = \"gender\", hue = 'final_result', data = df, kind = \"count\", height = 6)\n",
        "mx.set(ylabel = 'Total de Alunos')\n",
        "plt.title('Resultado final Por Genero');"
      ],
      "execution_count": 419,
      "outputs": [
        {
          "output_type": "display_data",
          "data": {
            "image/png": "[encoded data removed]",
            "text/plain": [
              "<Figure size 531.1x432 with 1 Axes>"
            ]
          },
          "metadata": {
            "tags": []
          }
        }
      ]
    },
    {
      "cell_type": "code",
      "metadata": {
        "colab": {
          "base_uri": "https://localhost:8080/"
        },
        "id": "10vNq9QsOtJp",
        "outputId": "96531e5c-0a54-422d-8bde-0417b87ad339"
      },
      "source": [
        "# Maior, menor e score médio\n",
        "print(\"Maior score:\", df['score'].max(), \"\\nMenor score:\", df['score'].min(), \"\\nMédia:\",round(df['score'].mean(),2))"
      ],
      "execution_count": 420,
      "outputs": [
        {
          "output_type": "stream",
          "text": [
            "Maior score: 100.0 \n",
            "Menor score: 0.0 \n",
            "Média: 75.98\n"
          ],
          "name": "stdout"
        }
      ]
    },
    {
      "cell_type": "markdown",
      "metadata": {
        "id": "0HwyZiQVGSrY"
      },
      "source": [
        "### Maiores valores de aprovação se encontram nos maiores indices de educação"
      ]
    },
    {
      "cell_type": "code",
      "metadata": {
        "colab": {
          "base_uri": "https://localhost:8080/",
          "height": 919
        },
        "id": "r-NjE-opPFqI",
        "outputId": "9073a190-15aa-42f4-94df-79bc540fcb66"
      },
      "source": [
        "# Distribuição dos resultados finais pela mais alta graduação obtida\n",
        "plt.figure(figsize=(20,20))\n",
        "mx = sns.catplot(x = \"highest_education\", hue = 'final_result', data = df, kind = \"count\", height = 12)\n",
        "mx.set(ylabel = 'Total de Alunos')\n",
        "plt.title('Resultado final pela mais alta graduação obtida ');"
      ],
      "execution_count": 421,
      "outputs": [
        {
          "output_type": "display_data",
          "data": {
            "text/plain": [
              "<Figure size 1440x1440 with 0 Axes>"
            ]
          },
          "metadata": {
            "tags": []
          }
        },
        {
          "output_type": "display_data",
          "data": {
            "image/png": "[encoded data removed]",
            "text/plain": [
              "<Figure size 963.1x864 with 1 Axes>"
            ]
          },
          "metadata": {
            "tags": []
          }
        }
      ]
    },
    {
      "cell_type": "code",
      "metadata": {
        "colab": {
          "base_uri": "https://localhost:8080/",
          "height": 919
        },
        "id": "KWtIupLMzU98",
        "outputId": "082a23cf-2784-42c0-acd5-1bc1fe930aa7"
      },
      "source": [
        "# Distribuição dos resultados finais pela faixa de idade\n",
        "plt.figure(figsize=(20,20))\n",
        "mx = sns.catplot(x = \"age_band\", hue = 'final_result', data = df, kind = \"count\", height = 12)\n",
        "mx.set(ylabel = 'Total de Alunos')\n",
        "plt.title('Resultado final pela faixa de idade');"
      ],
      "execution_count": 422,
      "outputs": [
        {
          "output_type": "display_data",
          "data": {
            "text/plain": [
              "<Figure size 1440x1440 with 0 Axes>"
            ]
          },
          "metadata": {
            "tags": []
          }
        },
        {
          "output_type": "display_data",
          "data": {
            "image/png": "[encoded data removed]",
            "text/plain": [
              "<Figure size 963.1x864 with 1 Axes>"
            ]
          },
          "metadata": {
            "tags": []
          }
        }
      ]
    },
    {
      "cell_type": "code",
      "metadata": {
        "colab": {
          "base_uri": "https://localhost:8080/"
        },
        "id": "a8WA5pHG1-_T",
        "outputId": "2099b118-28ce-4d46-b236-37a250e44e20"
      },
      "source": [
        "df.assessment_type.value_counts()"
      ],
      "execution_count": 423,
      "outputs": [
        {
          "output_type": "execute_result",
          "data": {
            "text/plain": [
              "TMA     92146\n",
              "CMA     66073\n",
              "Exam     4724\n",
              "Name: assessment_type, dtype: int64"
            ]
          },
          "metadata": {
            "tags": []
          },
          "execution_count": 423
        }
      ]
    },
    {
      "cell_type": "code",
      "metadata": {
        "colab": {
          "base_uri": "https://localhost:8080/"
        },
        "id": "RPo9IOGm2M7X",
        "outputId": "028ede3d-83ab-4136-e4bd-ffdfc7321b4e"
      },
      "source": [
        "# Total de alunos por região\n",
        "# 14 regiões\n",
        "df.region.value_counts()"
      ],
      "execution_count": 424,
      "outputs": [
        {
          "output_type": "execute_result",
          "data": {
            "text/plain": [
              "East Anglian Region     17186\n",
              "Scotland                17093\n",
              "South Region            16649\n",
              "London Region           15250\n",
              "North Western Region    13074\n",
              "South West Region       12591\n",
              "West Midlands Region    12228\n",
              "East Midlands Region    11518\n",
              "South East Region       11014\n",
              "Wales                   10389\n",
              "North Region             9567\n",
              "Yorkshire Region         9526\n",
              "Ireland                  6858\n",
              "Name: region, dtype: int64"
            ]
          },
          "metadata": {
            "tags": []
          },
          "execution_count": 424
        }
      ]
    },
    {
      "cell_type": "code",
      "metadata": {
        "colab": {
          "base_uri": "https://localhost:8080/",
          "height": 541
        },
        "id": "3i5jdNb32NJf",
        "outputId": "e4dcc24f-14da-4862-e203-b03cd59c7a2b"
      },
      "source": [
        "df"
      ],
      "execution_count": 425,
      "outputs": [
        {
          "output_type": "execute_result",
          "data": {
            "text/html": [
              "<div>\n",
              "<style scoped>\n",
              "    .dataframe tbody tr th:only-of-type {\n",
              "        vertical-align: middle;\n",
              "    }\n",
              "\n",
              "    .dataframe tbody tr th {\n",
              "        vertical-align: top;\n",
              "    }\n",
              "\n",
              "    .dataframe thead th {\n",
              "        text-align: right;\n",
              "    }\n",
              "</style>\n",
              "<table border=\"1\" class=\"dataframe\">\n",
              "  <thead>\n",
              "    <tr style=\"text-align: right;\">\n",
              "      <th></th>\n",
              "      <th>code_module</th>\n",
              "      <th>code_presentation</th>\n",
              "      <th>assessment_type</th>\n",
              "      <th>date</th>\n",
              "      <th>weight</th>\n",
              "      <th>date_submitted</th>\n",
              "      <th>score</th>\n",
              "      <th>module_presentation_length</th>\n",
              "      <th>gender</th>\n",
              "      <th>region</th>\n",
              "      <th>highest_education</th>\n",
              "      <th>imd_band</th>\n",
              "      <th>age_band</th>\n",
              "      <th>num_of_prev_attempts</th>\n",
              "      <th>studied_credits</th>\n",
              "      <th>disability</th>\n",
              "      <th>final_result</th>\n",
              "    </tr>\n",
              "  </thead>\n",
              "  <tbody>\n",
              "    <tr>\n",
              "      <th>5</th>\n",
              "      <td>AAA</td>\n",
              "      <td>2013J</td>\n",
              "      <td>TMA</td>\n",
              "      <td>19.0</td>\n",
              "      <td>10.0</td>\n",
              "      <td>22</td>\n",
              "      <td>70.0</td>\n",
              "      <td>268</td>\n",
              "      <td>F</td>\n",
              "      <td>Scotland</td>\n",
              "      <td>HE Qualification</td>\n",
              "      <td>20-30%</td>\n",
              "      <td>35-55</td>\n",
              "      <td>0</td>\n",
              "      <td>60</td>\n",
              "      <td>N</td>\n",
              "      <td>Pass</td>\n",
              "    </tr>\n",
              "    <tr>\n",
              "      <th>6</th>\n",
              "      <td>AAA</td>\n",
              "      <td>2013J</td>\n",
              "      <td>TMA</td>\n",
              "      <td>54.0</td>\n",
              "      <td>20.0</td>\n",
              "      <td>52</td>\n",
              "      <td>68.0</td>\n",
              "      <td>268</td>\n",
              "      <td>F</td>\n",
              "      <td>Scotland</td>\n",
              "      <td>HE Qualification</td>\n",
              "      <td>20-30%</td>\n",
              "      <td>35-55</td>\n",
              "      <td>0</td>\n",
              "      <td>60</td>\n",
              "      <td>N</td>\n",
              "      <td>Pass</td>\n",
              "    </tr>\n",
              "    <tr>\n",
              "      <th>7</th>\n",
              "      <td>AAA</td>\n",
              "      <td>2013J</td>\n",
              "      <td>TMA</td>\n",
              "      <td>117.0</td>\n",
              "      <td>20.0</td>\n",
              "      <td>121</td>\n",
              "      <td>70.0</td>\n",
              "      <td>268</td>\n",
              "      <td>F</td>\n",
              "      <td>Scotland</td>\n",
              "      <td>HE Qualification</td>\n",
              "      <td>20-30%</td>\n",
              "      <td>35-55</td>\n",
              "      <td>0</td>\n",
              "      <td>60</td>\n",
              "      <td>N</td>\n",
              "      <td>Pass</td>\n",
              "    </tr>\n",
              "    <tr>\n",
              "      <th>8</th>\n",
              "      <td>AAA</td>\n",
              "      <td>2013J</td>\n",
              "      <td>TMA</td>\n",
              "      <td>166.0</td>\n",
              "      <td>20.0</td>\n",
              "      <td>164</td>\n",
              "      <td>64.0</td>\n",
              "      <td>268</td>\n",
              "      <td>F</td>\n",
              "      <td>Scotland</td>\n",
              "      <td>HE Qualification</td>\n",
              "      <td>20-30%</td>\n",
              "      <td>35-55</td>\n",
              "      <td>0</td>\n",
              "      <td>60</td>\n",
              "      <td>N</td>\n",
              "      <td>Pass</td>\n",
              "    </tr>\n",
              "    <tr>\n",
              "      <th>9</th>\n",
              "      <td>AAA</td>\n",
              "      <td>2013J</td>\n",
              "      <td>TMA</td>\n",
              "      <td>215.0</td>\n",
              "      <td>30.0</td>\n",
              "      <td>212</td>\n",
              "      <td>60.0</td>\n",
              "      <td>268</td>\n",
              "      <td>F</td>\n",
              "      <td>Scotland</td>\n",
              "      <td>HE Qualification</td>\n",
              "      <td>20-30%</td>\n",
              "      <td>35-55</td>\n",
              "      <td>0</td>\n",
              "      <td>60</td>\n",
              "      <td>N</td>\n",
              "      <td>Pass</td>\n",
              "    </tr>\n",
              "    <tr>\n",
              "      <th>...</th>\n",
              "      <td>...</td>\n",
              "      <td>...</td>\n",
              "      <td>...</td>\n",
              "      <td>...</td>\n",
              "      <td>...</td>\n",
              "      <td>...</td>\n",
              "      <td>...</td>\n",
              "      <td>...</td>\n",
              "      <td>...</td>\n",
              "      <td>...</td>\n",
              "      <td>...</td>\n",
              "      <td>...</td>\n",
              "      <td>...</td>\n",
              "      <td>...</td>\n",
              "      <td>...</td>\n",
              "      <td>...</td>\n",
              "      <td>...</td>\n",
              "    </tr>\n",
              "    <tr>\n",
              "      <th>173907</th>\n",
              "      <td>GGG</td>\n",
              "      <td>2014J</td>\n",
              "      <td>TMA</td>\n",
              "      <td>61.0</td>\n",
              "      <td>0.0</td>\n",
              "      <td>60</td>\n",
              "      <td>56.0</td>\n",
              "      <td>269</td>\n",
              "      <td>F</td>\n",
              "      <td>Wales</td>\n",
              "      <td>Lower Than A Level</td>\n",
              "      <td>10-20</td>\n",
              "      <td>0-35</td>\n",
              "      <td>0</td>\n",
              "      <td>30</td>\n",
              "      <td>N</td>\n",
              "      <td>Fail</td>\n",
              "    </tr>\n",
              "    <tr>\n",
              "      <th>173908</th>\n",
              "      <td>GGG</td>\n",
              "      <td>2014J</td>\n",
              "      <td>TMA</td>\n",
              "      <td>124.0</td>\n",
              "      <td>0.0</td>\n",
              "      <td>124</td>\n",
              "      <td>68.0</td>\n",
              "      <td>269</td>\n",
              "      <td>F</td>\n",
              "      <td>Wales</td>\n",
              "      <td>Lower Than A Level</td>\n",
              "      <td>10-20</td>\n",
              "      <td>0-35</td>\n",
              "      <td>0</td>\n",
              "      <td>30</td>\n",
              "      <td>N</td>\n",
              "      <td>Fail</td>\n",
              "    </tr>\n",
              "    <tr>\n",
              "      <th>173909</th>\n",
              "      <td>GGG</td>\n",
              "      <td>2014J</td>\n",
              "      <td>TMA</td>\n",
              "      <td>61.0</td>\n",
              "      <td>0.0</td>\n",
              "      <td>59</td>\n",
              "      <td>54.0</td>\n",
              "      <td>269</td>\n",
              "      <td>F</td>\n",
              "      <td>East Anglian Region</td>\n",
              "      <td>HE Qualification</td>\n",
              "      <td>70-80%</td>\n",
              "      <td>35-55</td>\n",
              "      <td>0</td>\n",
              "      <td>30</td>\n",
              "      <td>N</td>\n",
              "      <td>Fail</td>\n",
              "    </tr>\n",
              "    <tr>\n",
              "      <th>173910</th>\n",
              "      <td>GGG</td>\n",
              "      <td>2014J</td>\n",
              "      <td>TMA</td>\n",
              "      <td>124.0</td>\n",
              "      <td>0.0</td>\n",
              "      <td>124</td>\n",
              "      <td>60.0</td>\n",
              "      <td>269</td>\n",
              "      <td>F</td>\n",
              "      <td>East Anglian Region</td>\n",
              "      <td>Lower Than A Level</td>\n",
              "      <td>20-30%</td>\n",
              "      <td>0-35</td>\n",
              "      <td>1</td>\n",
              "      <td>30</td>\n",
              "      <td>N</td>\n",
              "      <td>Fail</td>\n",
              "    </tr>\n",
              "    <tr>\n",
              "      <th>173911</th>\n",
              "      <td>GGG</td>\n",
              "      <td>2014J</td>\n",
              "      <td>TMA</td>\n",
              "      <td>124.0</td>\n",
              "      <td>0.0</td>\n",
              "      <td>138</td>\n",
              "      <td>60.0</td>\n",
              "      <td>269</td>\n",
              "      <td>F</td>\n",
              "      <td>East Midlands Region</td>\n",
              "      <td>Lower Than A Level</td>\n",
              "      <td>90-100%</td>\n",
              "      <td>0-35</td>\n",
              "      <td>0</td>\n",
              "      <td>90</td>\n",
              "      <td>N</td>\n",
              "      <td>Fail</td>\n",
              "    </tr>\n",
              "  </tbody>\n",
              "</table>\n",
              "<p>162943 rows × 17 columns</p>\n",
              "</div>"
            ],
            "text/plain": [
              "       code_module code_presentation assessment_type   date  weight  \\\n",
              "5              AAA             2013J             TMA   19.0    10.0   \n",
              "6              AAA             2013J             TMA   54.0    20.0   \n",
              "7              AAA             2013J             TMA  117.0    20.0   \n",
              "8              AAA             2013J             TMA  166.0    20.0   \n",
              "9              AAA             2013J             TMA  215.0    30.0   \n",
              "...            ...               ...             ...    ...     ...   \n",
              "173907         GGG             2014J             TMA   61.0     0.0   \n",
              "173908         GGG             2014J             TMA  124.0     0.0   \n",
              "173909         GGG             2014J             TMA   61.0     0.0   \n",
              "173910         GGG             2014J             TMA  124.0     0.0   \n",
              "173911         GGG             2014J             TMA  124.0     0.0   \n",
              "\n",
              "        date_submitted  score  module_presentation_length gender  \\\n",
              "5                   22   70.0                         268      F   \n",
              "6                   52   68.0                         268      F   \n",
              "7                  121   70.0                         268      F   \n",
              "8                  164   64.0                         268      F   \n",
              "9                  212   60.0                         268      F   \n",
              "...                ...    ...                         ...    ...   \n",
              "173907              60   56.0                         269      F   \n",
              "173908             124   68.0                         269      F   \n",
              "173909              59   54.0                         269      F   \n",
              "173910             124   60.0                         269      F   \n",
              "173911             138   60.0                         269      F   \n",
              "\n",
              "                      region   highest_education imd_band age_band  \\\n",
              "5                   Scotland    HE Qualification   20-30%    35-55   \n",
              "6                   Scotland    HE Qualification   20-30%    35-55   \n",
              "7                   Scotland    HE Qualification   20-30%    35-55   \n",
              "8                   Scotland    HE Qualification   20-30%    35-55   \n",
              "9                   Scotland    HE Qualification   20-30%    35-55   \n",
              "...                      ...                 ...      ...      ...   \n",
              "173907                 Wales  Lower Than A Level    10-20     0-35   \n",
              "173908                 Wales  Lower Than A Level    10-20     0-35   \n",
              "173909   East Anglian Region    HE Qualification   70-80%    35-55   \n",
              "173910   East Anglian Region  Lower Than A Level   20-30%     0-35   \n",
              "173911  East Midlands Region  Lower Than A Level  90-100%     0-35   \n",
              "\n",
              "        num_of_prev_attempts  studied_credits disability final_result  \n",
              "5                          0               60          N         Pass  \n",
              "6                          0               60          N         Pass  \n",
              "7                          0               60          N         Pass  \n",
              "8                          0               60          N         Pass  \n",
              "9                          0               60          N         Pass  \n",
              "...                      ...              ...        ...          ...  \n",
              "173907                     0               30          N         Fail  \n",
              "173908                     0               30          N         Fail  \n",
              "173909                     0               30          N         Fail  \n",
              "173910                     1               30          N         Fail  \n",
              "173911                     0               90          N         Fail  \n",
              "\n",
              "[162943 rows x 17 columns]"
            ]
          },
          "metadata": {
            "tags": []
          },
          "execution_count": 425
        }
      ]
    },
    {
      "cell_type": "code",
      "metadata": {
        "colab": {
          "base_uri": "https://localhost:8080/"
        },
        "id": "c-WfvkT4uiQC",
        "outputId": "c2b205c8-80ad-4716-e321-4470277b6e90"
      },
      "source": [
        "df.highest_education.value_counts()"
      ],
      "execution_count": 479,
      "outputs": [
        {
          "output_type": "execute_result",
          "data": {
            "text/plain": [
              "4    74732\n",
              "3    59447\n",
              "2    25617\n",
              "1     1836\n",
              "0     1311\n",
              "Name: highest_education, dtype: int64"
            ]
          },
          "metadata": {
            "tags": []
          },
          "execution_count": 479
        }
      ]
    },
    {
      "cell_type": "markdown",
      "metadata": {
        "id": "O2PitmztyAhG"
      },
      "source": [
        "### Coluna highest_education é ordinal"
      ]
    },
    {
      "cell_type": "code",
      "metadata": {
        "id": "a7y7ulfauai0"
      },
      "source": [
        "cat = pd.Categorical(df.highest_education, categories=[\"No Formal quals\",\"Post Graduate Qualification\",'HE Qualification','Lower Than A Level', 'A Level or Equivalent'], ordered=True)"
      ],
      "execution_count": 427,
      "outputs": []
    },
    {
      "cell_type": "code",
      "metadata": {
        "colab": {
          "base_uri": "https://localhost:8080/"
        },
        "id": "eumzlvnvvcB8",
        "outputId": "52f5a829-754b-4e7d-8dfe-24469dc45e1c"
      },
      "source": [
        "cat"
      ],
      "execution_count": 428,
      "outputs": [
        {
          "output_type": "execute_result",
          "data": {
            "text/plain": [
              "['HE Qualification', 'HE Qualification', 'HE Qualification', 'HE Qualification', 'HE Qualification', ..., 'Lower Than A Level', 'Lower Than A Level', 'HE Qualification', 'Lower Than A Level', 'Lower Than A Level']\n",
              "Length: 162943\n",
              "Categories (5, object): ['No Formal quals' < 'Post Graduate Qualification' < 'HE Qualification' <\n",
              "                         'Lower Than A Level' < 'A Level or Equivalent']"
            ]
          },
          "metadata": {
            "tags": []
          },
          "execution_count": 428
        }
      ]
    },
    {
      "cell_type": "code",
      "metadata": {
        "id": "eEvUR9_qvv5V"
      },
      "source": [
        "labels, unique = pd.factorize(cat, sort=True)"
      ],
      "execution_count": 429,
      "outputs": []
    },
    {
      "cell_type": "code",
      "metadata": {
        "id": "ReVD2OPBvx5i"
      },
      "source": [
        "df.highest_education = labels"
      ],
      "execution_count": 430,
      "outputs": []
    },
    {
      "cell_type": "code",
      "metadata": {
        "colab": {
          "base_uri": "https://localhost:8080/"
        },
        "id": "8HUCl13lrmga",
        "outputId": "a24a785e-56e9-49f7-d20f-ccea79b3f1a2"
      },
      "source": [
        "df.info()"
      ],
      "execution_count": 431,
      "outputs": [
        {
          "output_type": "stream",
          "text": [
            "<class 'pandas.core.frame.DataFrame'>\n",
            "Int64Index: 162943 entries, 5 to 173911\n",
            "Data columns (total 17 columns):\n",
            " #   Column                      Non-Null Count   Dtype  \n",
            "---  ------                      --------------   -----  \n",
            " 0   code_module                 162943 non-null  object \n",
            " 1   code_presentation           162943 non-null  object \n",
            " 2   assessment_type             162943 non-null  object \n",
            " 3   date                        162943 non-null  float64\n",
            " 4   weight                      162943 non-null  float64\n",
            " 5   date_submitted              162943 non-null  int64  \n",
            " 6   score                       162943 non-null  float64\n",
            " 7   module_presentation_length  162943 non-null  int64  \n",
            " 8   gender                      162943 non-null  object \n",
            " 9   region                      162943 non-null  object \n",
            " 10  highest_education           162943 non-null  int64  \n",
            " 11  imd_band                    162943 non-null  object \n",
            " 12  age_band                    162943 non-null  object \n",
            " 13  num_of_prev_attempts        162943 non-null  int64  \n",
            " 14  studied_credits             162943 non-null  int64  \n",
            " 15  disability                  162943 non-null  object \n",
            " 16  final_result                162943 non-null  object \n",
            "dtypes: float64(3), int64(5), object(9)\n",
            "memory usage: 27.4+ MB\n"
          ],
          "name": "stdout"
        }
      ]
    },
    {
      "cell_type": "code",
      "metadata": {
        "id": "G9GYoZvWUXZI"
      },
      "source": [
        "def encoder(df):\n",
        "  columnsToEncode = list(df.select_dtypes(include=['object']))\n",
        "  le = LabelEncoder()\n",
        "  for feature in columnsToEncode:\n",
        "      try:\n",
        "          df[feature] = le.fit_transform(df[feature])\n",
        "      except:\n",
        "          print('Error encoding '+feature)\n",
        "  return df"
      ],
      "execution_count": 432,
      "outputs": []
    },
    {
      "cell_type": "code",
      "metadata": {
        "id": "0XcTq88paCLD"
      },
      "source": [
        "df2_le = encoder(df)"
      ],
      "execution_count": 433,
      "outputs": []
    },
    {
      "cell_type": "code",
      "metadata": {
        "colab": {
          "base_uri": "https://localhost:8080/",
          "height": 317
        },
        "id": "Zz1Llcq2Mzdz",
        "outputId": "e867d5b3-9721-4b18-af12-2f012cd9d8f7"
      },
      "source": [
        "df2_le.describe()"
      ],
      "execution_count": 434,
      "outputs": [
        {
          "output_type": "execute_result",
          "data": {
            "text/html": [
              "<div>\n",
              "<style scoped>\n",
              "    .dataframe tbody tr th:only-of-type {\n",
              "        vertical-align: middle;\n",
              "    }\n",
              "\n",
              "    .dataframe tbody tr th {\n",
              "        vertical-align: top;\n",
              "    }\n",
              "\n",
              "    .dataframe thead th {\n",
              "        text-align: right;\n",
              "    }\n",
              "</style>\n",
              "<table border=\"1\" class=\"dataframe\">\n",
              "  <thead>\n",
              "    <tr style=\"text-align: right;\">\n",
              "      <th></th>\n",
              "      <th>code_module</th>\n",
              "      <th>code_presentation</th>\n",
              "      <th>assessment_type</th>\n",
              "      <th>date</th>\n",
              "      <th>weight</th>\n",
              "      <th>date_submitted</th>\n",
              "      <th>score</th>\n",
              "      <th>module_presentation_length</th>\n",
              "      <th>gender</th>\n",
              "      <th>region</th>\n",
              "      <th>highest_education</th>\n",
              "      <th>imd_band</th>\n",
              "      <th>age_band</th>\n",
              "      <th>num_of_prev_attempts</th>\n",
              "      <th>studied_credits</th>\n",
              "      <th>disability</th>\n",
              "      <th>final_result</th>\n",
              "    </tr>\n",
              "  </thead>\n",
              "  <tbody>\n",
              "    <tr>\n",
              "      <th>count</th>\n",
              "      <td>162943.000000</td>\n",
              "      <td>162943.000000</td>\n",
              "      <td>162943.000000</td>\n",
              "      <td>162943.000000</td>\n",
              "      <td>162943.000000</td>\n",
              "      <td>162943.000000</td>\n",
              "      <td>162943.000000</td>\n",
              "      <td>162943.000000</td>\n",
              "      <td>162943.000000</td>\n",
              "      <td>162943.000000</td>\n",
              "      <td>162943.000000</td>\n",
              "      <td>162943.000000</td>\n",
              "      <td>162943.000000</td>\n",
              "      <td>162943.000000</td>\n",
              "      <td>162943.000000</td>\n",
              "      <td>162943.000000</td>\n",
              "      <td>162943.000000</td>\n",
              "    </tr>\n",
              "    <tr>\n",
              "      <th>mean</th>\n",
              "      <td>3.279674</td>\n",
              "      <td>1.637579</td>\n",
              "      <td>1.160013</td>\n",
              "      <td>131.214166</td>\n",
              "      <td>12.797626</td>\n",
              "      <td>117.515284</td>\n",
              "      <td>75.982854</td>\n",
              "      <td>255.289175</td>\n",
              "      <td>0.537937</td>\n",
              "      <td>5.851733</td>\n",
              "      <td>3.254752</td>\n",
              "      <td>4.379329</td>\n",
              "      <td>0.323027</td>\n",
              "      <td>0.118532</td>\n",
              "      <td>71.029072</td>\n",
              "      <td>0.084490</td>\n",
              "      <td>1.601106</td>\n",
              "    </tr>\n",
              "    <tr>\n",
              "      <th>std</th>\n",
              "      <td>1.817042</td>\n",
              "      <td>1.101845</td>\n",
              "      <td>0.972322</td>\n",
              "      <td>77.139225</td>\n",
              "      <td>17.998975</td>\n",
              "      <td>70.270247</td>\n",
              "      <td>18.752875</td>\n",
              "      <td>13.554023</td>\n",
              "      <td>0.498560</td>\n",
              "      <td>3.680456</td>\n",
              "      <td>0.817583</td>\n",
              "      <td>2.764082</td>\n",
              "      <td>0.481829</td>\n",
              "      <td>0.410225</td>\n",
              "      <td>27.815637</td>\n",
              "      <td>0.278122</td>\n",
              "      <td>0.832375</td>\n",
              "    </tr>\n",
              "    <tr>\n",
              "      <th>min</th>\n",
              "      <td>0.000000</td>\n",
              "      <td>0.000000</td>\n",
              "      <td>0.000000</td>\n",
              "      <td>12.000000</td>\n",
              "      <td>0.000000</td>\n",
              "      <td>0.000000</td>\n",
              "      <td>0.000000</td>\n",
              "      <td>234.000000</td>\n",
              "      <td>0.000000</td>\n",
              "      <td>0.000000</td>\n",
              "      <td>0.000000</td>\n",
              "      <td>0.000000</td>\n",
              "      <td>0.000000</td>\n",
              "      <td>0.000000</td>\n",
              "      <td>30.000000</td>\n",
              "      <td>0.000000</td>\n",
              "      <td>0.000000</td>\n",
              "    </tr>\n",
              "    <tr>\n",
              "      <th>25%</th>\n",
              "      <td>1.000000</td>\n",
              "      <td>1.000000</td>\n",
              "      <td>0.000000</td>\n",
              "      <td>54.000000</td>\n",
              "      <td>0.000000</td>\n",
              "      <td>52.000000</td>\n",
              "      <td>66.000000</td>\n",
              "      <td>241.000000</td>\n",
              "      <td>0.000000</td>\n",
              "      <td>3.000000</td>\n",
              "      <td>3.000000</td>\n",
              "      <td>2.000000</td>\n",
              "      <td>0.000000</td>\n",
              "      <td>0.000000</td>\n",
              "      <td>60.000000</td>\n",
              "      <td>0.000000</td>\n",
              "      <td>1.000000</td>\n",
              "    </tr>\n",
              "    <tr>\n",
              "      <th>50%</th>\n",
              "      <td>3.000000</td>\n",
              "      <td>2.000000</td>\n",
              "      <td>2.000000</td>\n",
              "      <td>131.000000</td>\n",
              "      <td>9.000000</td>\n",
              "      <td>117.000000</td>\n",
              "      <td>80.000000</td>\n",
              "      <td>262.000000</td>\n",
              "      <td>1.000000</td>\n",
              "      <td>6.000000</td>\n",
              "      <td>3.000000</td>\n",
              "      <td>4.000000</td>\n",
              "      <td>0.000000</td>\n",
              "      <td>0.000000</td>\n",
              "      <td>60.000000</td>\n",
              "      <td>0.000000</td>\n",
              "      <td>2.000000</td>\n",
              "    </tr>\n",
              "    <tr>\n",
              "      <th>75%</th>\n",
              "      <td>5.000000</td>\n",
              "      <td>3.000000</td>\n",
              "      <td>2.000000</td>\n",
              "      <td>208.000000</td>\n",
              "      <td>18.000000</td>\n",
              "      <td>173.000000</td>\n",
              "      <td>90.000000</td>\n",
              "      <td>268.000000</td>\n",
              "      <td>1.000000</td>\n",
              "      <td>9.000000</td>\n",
              "      <td>4.000000</td>\n",
              "      <td>7.000000</td>\n",
              "      <td>1.000000</td>\n",
              "      <td>0.000000</td>\n",
              "      <td>90.000000</td>\n",
              "      <td>0.000000</td>\n",
              "      <td>2.000000</td>\n",
              "    </tr>\n",
              "    <tr>\n",
              "      <th>max</th>\n",
              "      <td>6.000000</td>\n",
              "      <td>3.000000</td>\n",
              "      <td>2.000000</td>\n",
              "      <td>261.000000</td>\n",
              "      <td>100.000000</td>\n",
              "      <td>342.000000</td>\n",
              "      <td>100.000000</td>\n",
              "      <td>269.000000</td>\n",
              "      <td>1.000000</td>\n",
              "      <td>12.000000</td>\n",
              "      <td>4.000000</td>\n",
              "      <td>9.000000</td>\n",
              "      <td>2.000000</td>\n",
              "      <td>6.000000</td>\n",
              "      <td>130.000000</td>\n",
              "      <td>1.000000</td>\n",
              "      <td>3.000000</td>\n",
              "    </tr>\n",
              "  </tbody>\n",
              "</table>\n",
              "</div>"
            ],
            "text/plain": [
              "         code_module  code_presentation  assessment_type           date  \\\n",
              "count  162943.000000      162943.000000    162943.000000  162943.000000   \n",
              "mean        3.279674           1.637579         1.160013     131.214166   \n",
              "std         1.817042           1.101845         0.972322      77.139225   \n",
              "min         0.000000           0.000000         0.000000      12.000000   \n",
              "25%         1.000000           1.000000         0.000000      54.000000   \n",
              "50%         3.000000           2.000000         2.000000     131.000000   \n",
              "75%         5.000000           3.000000         2.000000     208.000000   \n",
              "max         6.000000           3.000000         2.000000     261.000000   \n",
              "\n",
              "              weight  date_submitted          score  \\\n",
              "count  162943.000000   162943.000000  162943.000000   \n",
              "mean       12.797626      117.515284      75.982854   \n",
              "std        17.998975       70.270247      18.752875   \n",
              "min         0.000000        0.000000       0.000000   \n",
              "25%         0.000000       52.000000      66.000000   \n",
              "50%         9.000000      117.000000      80.000000   \n",
              "75%        18.000000      173.000000      90.000000   \n",
              "max       100.000000      342.000000     100.000000   \n",
              "\n",
              "       module_presentation_length         gender         region  \\\n",
              "count               162943.000000  162943.000000  162943.000000   \n",
              "mean                   255.289175       0.537937       5.851733   \n",
              "std                     13.554023       0.498560       3.680456   \n",
              "min                    234.000000       0.000000       0.000000   \n",
              "25%                    241.000000       0.000000       3.000000   \n",
              "50%                    262.000000       1.000000       6.000000   \n",
              "75%                    268.000000       1.000000       9.000000   \n",
              "max                    269.000000       1.000000      12.000000   \n",
              "\n",
              "       highest_education       imd_band       age_band  num_of_prev_attempts  \\\n",
              "count      162943.000000  162943.000000  162943.000000         162943.000000   \n",
              "mean            3.254752       4.379329       0.323027              0.118532   \n",
              "std             0.817583       2.764082       0.481829              0.410225   \n",
              "min             0.000000       0.000000       0.000000              0.000000   \n",
              "25%             3.000000       2.000000       0.000000              0.000000   \n",
              "50%             3.000000       4.000000       0.000000              0.000000   \n",
              "75%             4.000000       7.000000       1.000000              0.000000   \n",
              "max             4.000000       9.000000       2.000000              6.000000   \n",
              "\n",
              "       studied_credits     disability   final_result  \n",
              "count    162943.000000  162943.000000  162943.000000  \n",
              "mean         71.029072       0.084490       1.601106  \n",
              "std          27.815637       0.278122       0.832375  \n",
              "min          30.000000       0.000000       0.000000  \n",
              "25%          60.000000       0.000000       1.000000  \n",
              "50%          60.000000       0.000000       2.000000  \n",
              "75%          90.000000       0.000000       2.000000  \n",
              "max         130.000000       1.000000       3.000000  "
            ]
          },
          "metadata": {
            "tags": []
          },
          "execution_count": 434
        }
      ]
    },
    {
      "cell_type": "code",
      "metadata": {
        "colab": {
          "base_uri": "https://localhost:8080/"
        },
        "id": "XFGLYaUUbIpF",
        "outputId": "94f3648c-d4d6-4a96-ffa7-d3c464a25cc7"
      },
      "source": [
        "# TMA: 2  CMA: 0 Exam: 1\n",
        "df2_le.assessment_type.value_counts()"
      ],
      "execution_count": 435,
      "outputs": [
        {
          "output_type": "execute_result",
          "data": {
            "text/plain": [
              "2    92146\n",
              "0    66073\n",
              "1     4724\n",
              "Name: assessment_type, dtype: int64"
            ]
          },
          "metadata": {
            "tags": []
          },
          "execution_count": 435
        }
      ]
    },
    {
      "cell_type": "code",
      "metadata": {
        "id": "EGZ0EUiQjDJH"
      },
      "source": [
        "df2 = df2_le"
      ],
      "execution_count": 436,
      "outputs": []
    },
    {
      "cell_type": "code",
      "metadata": {
        "id": "m7Ebrj3a0Xpv"
      },
      "source": [
        "df2.drop(['final_result'], axis = 1, inplace=True)"
      ],
      "execution_count": 437,
      "outputs": []
    },
    {
      "cell_type": "code",
      "metadata": {
        "colab": {
          "base_uri": "https://localhost:8080/"
        },
        "id": "8XLckNRRk3vJ",
        "outputId": "1ce38789-ba0e-4783-ab1c-a114810e02c2"
      },
      "source": [
        "corr_matrix = df2.corr()\n",
        "print(corr_matrix[\"score\"].sort_values(ascending=False))"
      ],
      "execution_count": 438,
      "outputs": [
        {
          "output_type": "stream",
          "text": [
            "score                         1.000000\n",
            "code_module                   0.080749\n",
            "date                          0.077773\n",
            "imd_band                      0.073209\n",
            "age_band                      0.065437\n",
            "module_presentation_length    0.014074\n",
            "region                        0.002122\n",
            "gender                       -0.006465\n",
            "highest_education            -0.009654\n",
            "code_presentation            -0.027160\n",
            "studied_credits              -0.033152\n",
            "date_submitted               -0.035219\n",
            "disability                   -0.036366\n",
            "num_of_prev_attempts         -0.062385\n",
            "weight                       -0.165653\n",
            "assessment_type              -0.217367\n",
            "Name: score, dtype: float64\n"
          ],
          "name": "stdout"
        }
      ]
    },
    {
      "cell_type": "code",
      "metadata": {
        "id": "clLiPvwDpQND"
      },
      "source": [
        "# Separar as variáveis mais correlacionadas com  score.\n",
        "columns = ['score','assessment_type', 'weight', 'code_module', 'date']\n",
        "df3 = df2[columns]"
      ],
      "execution_count": 439,
      "outputs": []
    },
    {
      "cell_type": "code",
      "metadata": {
        "colab": {
          "base_uri": "https://localhost:8080/",
          "height": 419
        },
        "id": "Lbw2JooE5h6v",
        "outputId": "cd038b34-4e33-403e-a310-c9ad9c07ef40"
      },
      "source": [
        "df3"
      ],
      "execution_count": 440,
      "outputs": [
        {
          "output_type": "execute_result",
          "data": {
            "text/html": [
              "<div>\n",
              "<style scoped>\n",
              "    .dataframe tbody tr th:only-of-type {\n",
              "        vertical-align: middle;\n",
              "    }\n",
              "\n",
              "    .dataframe tbody tr th {\n",
              "        vertical-align: top;\n",
              "    }\n",
              "\n",
              "    .dataframe thead th {\n",
              "        text-align: right;\n",
              "    }\n",
              "</style>\n",
              "<table border=\"1\" class=\"dataframe\">\n",
              "  <thead>\n",
              "    <tr style=\"text-align: right;\">\n",
              "      <th></th>\n",
              "      <th>score</th>\n",
              "      <th>assessment_type</th>\n",
              "      <th>weight</th>\n",
              "      <th>code_module</th>\n",
              "      <th>date</th>\n",
              "    </tr>\n",
              "  </thead>\n",
              "  <tbody>\n",
              "    <tr>\n",
              "      <th>5</th>\n",
              "      <td>70.0</td>\n",
              "      <td>2</td>\n",
              "      <td>10.0</td>\n",
              "      <td>0</td>\n",
              "      <td>19.0</td>\n",
              "    </tr>\n",
              "    <tr>\n",
              "      <th>6</th>\n",
              "      <td>68.0</td>\n",
              "      <td>2</td>\n",
              "      <td>20.0</td>\n",
              "      <td>0</td>\n",
              "      <td>54.0</td>\n",
              "    </tr>\n",
              "    <tr>\n",
              "      <th>7</th>\n",
              "      <td>70.0</td>\n",
              "      <td>2</td>\n",
              "      <td>20.0</td>\n",
              "      <td>0</td>\n",
              "      <td>117.0</td>\n",
              "    </tr>\n",
              "    <tr>\n",
              "      <th>8</th>\n",
              "      <td>64.0</td>\n",
              "      <td>2</td>\n",
              "      <td>20.0</td>\n",
              "      <td>0</td>\n",
              "      <td>166.0</td>\n",
              "    </tr>\n",
              "    <tr>\n",
              "      <th>9</th>\n",
              "      <td>60.0</td>\n",
              "      <td>2</td>\n",
              "      <td>30.0</td>\n",
              "      <td>0</td>\n",
              "      <td>215.0</td>\n",
              "    </tr>\n",
              "    <tr>\n",
              "      <th>...</th>\n",
              "      <td>...</td>\n",
              "      <td>...</td>\n",
              "      <td>...</td>\n",
              "      <td>...</td>\n",
              "      <td>...</td>\n",
              "    </tr>\n",
              "    <tr>\n",
              "      <th>173907</th>\n",
              "      <td>56.0</td>\n",
              "      <td>2</td>\n",
              "      <td>0.0</td>\n",
              "      <td>6</td>\n",
              "      <td>61.0</td>\n",
              "    </tr>\n",
              "    <tr>\n",
              "      <th>173908</th>\n",
              "      <td>68.0</td>\n",
              "      <td>2</td>\n",
              "      <td>0.0</td>\n",
              "      <td>6</td>\n",
              "      <td>124.0</td>\n",
              "    </tr>\n",
              "    <tr>\n",
              "      <th>173909</th>\n",
              "      <td>54.0</td>\n",
              "      <td>2</td>\n",
              "      <td>0.0</td>\n",
              "      <td>6</td>\n",
              "      <td>61.0</td>\n",
              "    </tr>\n",
              "    <tr>\n",
              "      <th>173910</th>\n",
              "      <td>60.0</td>\n",
              "      <td>2</td>\n",
              "      <td>0.0</td>\n",
              "      <td>6</td>\n",
              "      <td>124.0</td>\n",
              "    </tr>\n",
              "    <tr>\n",
              "      <th>173911</th>\n",
              "      <td>60.0</td>\n",
              "      <td>2</td>\n",
              "      <td>0.0</td>\n",
              "      <td>6</td>\n",
              "      <td>124.0</td>\n",
              "    </tr>\n",
              "  </tbody>\n",
              "</table>\n",
              "<p>162943 rows × 5 columns</p>\n",
              "</div>"
            ],
            "text/plain": [
              "        score  assessment_type  weight  code_module   date\n",
              "5        70.0                2    10.0            0   19.0\n",
              "6        68.0                2    20.0            0   54.0\n",
              "7        70.0                2    20.0            0  117.0\n",
              "8        64.0                2    20.0            0  166.0\n",
              "9        60.0                2    30.0            0  215.0\n",
              "...       ...              ...     ...          ...    ...\n",
              "173907   56.0                2     0.0            6   61.0\n",
              "173908   68.0                2     0.0            6  124.0\n",
              "173909   54.0                2     0.0            6   61.0\n",
              "173910   60.0                2     0.0            6  124.0\n",
              "173911   60.0                2     0.0            6  124.0\n",
              "\n",
              "[162943 rows x 5 columns]"
            ]
          },
          "metadata": {
            "tags": []
          },
          "execution_count": 440
        }
      ]
    },
    {
      "cell_type": "markdown",
      "metadata": {
        "id": "wJ7OKJ702qz6"
      },
      "source": [
        "### Criando um modelo de regressão para o dataset gerado"
      ]
    },
    {
      "cell_type": "code",
      "metadata": {
        "id": "BfSHSSYDyPGl"
      },
      "source": [
        "X = df3.drop(['score'], axis = 1)\n",
        "y = df3['score']"
      ],
      "execution_count": 441,
      "outputs": []
    },
    {
      "cell_type": "code",
      "metadata": {
        "id": "0o9HU-MKzFrB"
      },
      "source": [
        "X_train, X_test, y_train, y_test  = train_test_split(X, y, test_size = 0.3, random_state = 0)"
      ],
      "execution_count": 442,
      "outputs": []
    },
    {
      "cell_type": "code",
      "metadata": {
        "colab": {
          "base_uri": "https://localhost:8080/"
        },
        "id": "K8hc45dz7lR0",
        "outputId": "b108654c-0f4b-4952-9145-52cc82be75de"
      },
      "source": [
        "# Treinar o modelo\n",
        "reg = RandomForestRegressor(n_estimators=500)\n",
        "#reg = ExtraTreesRegressor()\n",
        "#reg = DecisionTreeRegressor()\n",
        "reg.fit(X_train, y_train)\n",
        "#\n",
        "# Testar o modelo\n",
        "pred = reg.predict(X_test)\n",
        "#\n",
        "# Avaliar R2 score\n",
        "r2 = r2_score(y_test, pred)\n",
        "r2"
      ],
      "execution_count": 443,
      "outputs": [
        {
          "output_type": "execute_result",
          "data": {
            "text/plain": [
              "0.14123542042766146"
            ]
          },
          "metadata": {
            "tags": []
          },
          "execution_count": 443
        }
      ]
    },
    {
      "cell_type": "code",
      "metadata": {
        "colab": {
          "base_uri": "https://localhost:8080/"
        },
        "id": "eNERCUNk8Lug",
        "outputId": "fcab1ed2-c2bc-4710-f2c6-f48d5f9c9cc6"
      },
      "source": [
        "# Testar o modelo\n",
        "pred = reg.predict(X_test)\n",
        "#\n",
        "# Avaliar R2 score\n",
        "r2 = r2_score(y_test, pred)\n",
        "r2"
      ],
      "execution_count": 444,
      "outputs": [
        {
          "output_type": "execute_result",
          "data": {
            "text/plain": [
              "0.14123542042766146"
            ]
          },
          "metadata": {
            "tags": []
          },
          "execution_count": 444
        }
      ]
    },
    {
      "cell_type": "code",
      "metadata": {
        "id": "1u9sf1SpH3xx"
      },
      "source": [
        "# Salvando o modelo final\n",
        "pickle.dump(reg, open(\"regressor_score.sav\", 'wb'))"
      ],
      "execution_count": 474,
      "outputs": []
    },
    {
      "cell_type": "markdown",
      "metadata": {
        "id": "dq_ue5MGH54y"
      },
      "source": [
        "## Criação de um dataset por tipo de avaliação, assessment_type.\n",
        "### A ideia é usar os dados de alunos que fizeram o mesmo tipo de avaliação e com isso obter um coeficiente de determinação com valor mais alto."
      ]
    },
    {
      "cell_type": "code",
      "metadata": {
        "colab": {
          "base_uri": "https://localhost:8080/",
          "height": 317
        },
        "id": "RclmJ5QhNKc6",
        "outputId": "fa54a729-3eab-494d-99cd-7963f923681b"
      },
      "source": [
        "df2.describe()"
      ],
      "execution_count": 445,
      "outputs": [
        {
          "output_type": "execute_result",
          "data": {
            "text/html": [
              "<div>\n",
              "<style scoped>\n",
              "    .dataframe tbody tr th:only-of-type {\n",
              "        vertical-align: middle;\n",
              "    }\n",
              "\n",
              "    .dataframe tbody tr th {\n",
              "        vertical-align: top;\n",
              "    }\n",
              "\n",
              "    .dataframe thead th {\n",
              "        text-align: right;\n",
              "    }\n",
              "</style>\n",
              "<table border=\"1\" class=\"dataframe\">\n",
              "  <thead>\n",
              "    <tr style=\"text-align: right;\">\n",
              "      <th></th>\n",
              "      <th>code_module</th>\n",
              "      <th>code_presentation</th>\n",
              "      <th>assessment_type</th>\n",
              "      <th>date</th>\n",
              "      <th>weight</th>\n",
              "      <th>date_submitted</th>\n",
              "      <th>score</th>\n",
              "      <th>module_presentation_length</th>\n",
              "      <th>gender</th>\n",
              "      <th>region</th>\n",
              "      <th>highest_education</th>\n",
              "      <th>imd_band</th>\n",
              "      <th>age_band</th>\n",
              "      <th>num_of_prev_attempts</th>\n",
              "      <th>studied_credits</th>\n",
              "      <th>disability</th>\n",
              "    </tr>\n",
              "  </thead>\n",
              "  <tbody>\n",
              "    <tr>\n",
              "      <th>count</th>\n",
              "      <td>162943.000000</td>\n",
              "      <td>162943.000000</td>\n",
              "      <td>162943.000000</td>\n",
              "      <td>162943.000000</td>\n",
              "      <td>162943.000000</td>\n",
              "      <td>162943.000000</td>\n",
              "      <td>162943.000000</td>\n",
              "      <td>162943.000000</td>\n",
              "      <td>162943.000000</td>\n",
              "      <td>162943.000000</td>\n",
              "      <td>162943.000000</td>\n",
              "      <td>162943.000000</td>\n",
              "      <td>162943.000000</td>\n",
              "      <td>162943.000000</td>\n",
              "      <td>162943.000000</td>\n",
              "      <td>162943.000000</td>\n",
              "    </tr>\n",
              "    <tr>\n",
              "      <th>mean</th>\n",
              "      <td>3.279674</td>\n",
              "      <td>1.637579</td>\n",
              "      <td>1.160013</td>\n",
              "      <td>131.214166</td>\n",
              "      <td>12.797626</td>\n",
              "      <td>117.515284</td>\n",
              "      <td>75.982854</td>\n",
              "      <td>255.289175</td>\n",
              "      <td>0.537937</td>\n",
              "      <td>5.851733</td>\n",
              "      <td>3.254752</td>\n",
              "      <td>4.379329</td>\n",
              "      <td>0.323027</td>\n",
              "      <td>0.118532</td>\n",
              "      <td>71.029072</td>\n",
              "      <td>0.084490</td>\n",
              "    </tr>\n",
              "    <tr>\n",
              "      <th>std</th>\n",
              "      <td>1.817042</td>\n",
              "      <td>1.101845</td>\n",
              "      <td>0.972322</td>\n",
              "      <td>77.139225</td>\n",
              "      <td>17.998975</td>\n",
              "      <td>70.270247</td>\n",
              "      <td>18.752875</td>\n",
              "      <td>13.554023</td>\n",
              "      <td>0.498560</td>\n",
              "      <td>3.680456</td>\n",
              "      <td>0.817583</td>\n",
              "      <td>2.764082</td>\n",
              "      <td>0.481829</td>\n",
              "      <td>0.410225</td>\n",
              "      <td>27.815637</td>\n",
              "      <td>0.278122</td>\n",
              "    </tr>\n",
              "    <tr>\n",
              "      <th>min</th>\n",
              "      <td>0.000000</td>\n",
              "      <td>0.000000</td>\n",
              "      <td>0.000000</td>\n",
              "      <td>12.000000</td>\n",
              "      <td>0.000000</td>\n",
              "      <td>0.000000</td>\n",
              "      <td>0.000000</td>\n",
              "      <td>234.000000</td>\n",
              "      <td>0.000000</td>\n",
              "      <td>0.000000</td>\n",
              "      <td>0.000000</td>\n",
              "      <td>0.000000</td>\n",
              "      <td>0.000000</td>\n",
              "      <td>0.000000</td>\n",
              "      <td>30.000000</td>\n",
              "      <td>0.000000</td>\n",
              "    </tr>\n",
              "    <tr>\n",
              "      <th>25%</th>\n",
              "      <td>1.000000</td>\n",
              "      <td>1.000000</td>\n",
              "      <td>0.000000</td>\n",
              "      <td>54.000000</td>\n",
              "      <td>0.000000</td>\n",
              "      <td>52.000000</td>\n",
              "      <td>66.000000</td>\n",
              "      <td>241.000000</td>\n",
              "      <td>0.000000</td>\n",
              "      <td>3.000000</td>\n",
              "      <td>3.000000</td>\n",
              "      <td>2.000000</td>\n",
              "      <td>0.000000</td>\n",
              "      <td>0.000000</td>\n",
              "      <td>60.000000</td>\n",
              "      <td>0.000000</td>\n",
              "    </tr>\n",
              "    <tr>\n",
              "      <th>50%</th>\n",
              "      <td>3.000000</td>\n",
              "      <td>2.000000</td>\n",
              "      <td>2.000000</td>\n",
              "      <td>131.000000</td>\n",
              "      <td>9.000000</td>\n",
              "      <td>117.000000</td>\n",
              "      <td>80.000000</td>\n",
              "      <td>262.000000</td>\n",
              "      <td>1.000000</td>\n",
              "      <td>6.000000</td>\n",
              "      <td>3.000000</td>\n",
              "      <td>4.000000</td>\n",
              "      <td>0.000000</td>\n",
              "      <td>0.000000</td>\n",
              "      <td>60.000000</td>\n",
              "      <td>0.000000</td>\n",
              "    </tr>\n",
              "    <tr>\n",
              "      <th>75%</th>\n",
              "      <td>5.000000</td>\n",
              "      <td>3.000000</td>\n",
              "      <td>2.000000</td>\n",
              "      <td>208.000000</td>\n",
              "      <td>18.000000</td>\n",
              "      <td>173.000000</td>\n",
              "      <td>90.000000</td>\n",
              "      <td>268.000000</td>\n",
              "      <td>1.000000</td>\n",
              "      <td>9.000000</td>\n",
              "      <td>4.000000</td>\n",
              "      <td>7.000000</td>\n",
              "      <td>1.000000</td>\n",
              "      <td>0.000000</td>\n",
              "      <td>90.000000</td>\n",
              "      <td>0.000000</td>\n",
              "    </tr>\n",
              "    <tr>\n",
              "      <th>max</th>\n",
              "      <td>6.000000</td>\n",
              "      <td>3.000000</td>\n",
              "      <td>2.000000</td>\n",
              "      <td>261.000000</td>\n",
              "      <td>100.000000</td>\n",
              "      <td>342.000000</td>\n",
              "      <td>100.000000</td>\n",
              "      <td>269.000000</td>\n",
              "      <td>1.000000</td>\n",
              "      <td>12.000000</td>\n",
              "      <td>4.000000</td>\n",
              "      <td>9.000000</td>\n",
              "      <td>2.000000</td>\n",
              "      <td>6.000000</td>\n",
              "      <td>130.000000</td>\n",
              "      <td>1.000000</td>\n",
              "    </tr>\n",
              "  </tbody>\n",
              "</table>\n",
              "</div>"
            ],
            "text/plain": [
              "         code_module  code_presentation  assessment_type           date  \\\n",
              "count  162943.000000      162943.000000    162943.000000  162943.000000   \n",
              "mean        3.279674           1.637579         1.160013     131.214166   \n",
              "std         1.817042           1.101845         0.972322      77.139225   \n",
              "min         0.000000           0.000000         0.000000      12.000000   \n",
              "25%         1.000000           1.000000         0.000000      54.000000   \n",
              "50%         3.000000           2.000000         2.000000     131.000000   \n",
              "75%         5.000000           3.000000         2.000000     208.000000   \n",
              "max         6.000000           3.000000         2.000000     261.000000   \n",
              "\n",
              "              weight  date_submitted          score  \\\n",
              "count  162943.000000   162943.000000  162943.000000   \n",
              "mean       12.797626      117.515284      75.982854   \n",
              "std        17.998975       70.270247      18.752875   \n",
              "min         0.000000        0.000000       0.000000   \n",
              "25%         0.000000       52.000000      66.000000   \n",
              "50%         9.000000      117.000000      80.000000   \n",
              "75%        18.000000      173.000000      90.000000   \n",
              "max       100.000000      342.000000     100.000000   \n",
              "\n",
              "       module_presentation_length         gender         region  \\\n",
              "count               162943.000000  162943.000000  162943.000000   \n",
              "mean                   255.289175       0.537937       5.851733   \n",
              "std                     13.554023       0.498560       3.680456   \n",
              "min                    234.000000       0.000000       0.000000   \n",
              "25%                    241.000000       0.000000       3.000000   \n",
              "50%                    262.000000       1.000000       6.000000   \n",
              "75%                    268.000000       1.000000       9.000000   \n",
              "max                    269.000000       1.000000      12.000000   \n",
              "\n",
              "       highest_education       imd_band       age_band  num_of_prev_attempts  \\\n",
              "count      162943.000000  162943.000000  162943.000000         162943.000000   \n",
              "mean            3.254752       4.379329       0.323027              0.118532   \n",
              "std             0.817583       2.764082       0.481829              0.410225   \n",
              "min             0.000000       0.000000       0.000000              0.000000   \n",
              "25%             3.000000       2.000000       0.000000              0.000000   \n",
              "50%             3.000000       4.000000       0.000000              0.000000   \n",
              "75%             4.000000       7.000000       1.000000              0.000000   \n",
              "max             4.000000       9.000000       2.000000              6.000000   \n",
              "\n",
              "       studied_credits     disability  \n",
              "count    162943.000000  162943.000000  \n",
              "mean         71.029072       0.084490  \n",
              "std          27.815637       0.278122  \n",
              "min          30.000000       0.000000  \n",
              "25%          60.000000       0.000000  \n",
              "50%          60.000000       0.000000  \n",
              "75%          90.000000       0.000000  \n",
              "max         130.000000       1.000000  "
            ]
          },
          "metadata": {
            "tags": []
          },
          "execution_count": 445
        }
      ]
    },
    {
      "cell_type": "markdown",
      "metadata": {
        "id": "iqo2c8HY3Dsa"
      },
      "source": [
        "### Gerando o dataset TMA"
      ]
    },
    {
      "cell_type": "code",
      "metadata": {
        "id": "fP1ihLLuH4f3"
      },
      "source": [
        "# Filtrar por tipo de avaliação\n",
        "# Assessment_type: # TMA: 2  CMA: 0 Exam: 1\n",
        "df_tma = df2.loc[df2['assessment_type'] == 2]\n"
      ],
      "execution_count": 448,
      "outputs": []
    },
    {
      "cell_type": "code",
      "metadata": {
        "id": "CURqDBOhj0Oz"
      },
      "source": [
        "df_tma.drop(columns=['assessment_type'], inplace=True)"
      ],
      "execution_count": 450,
      "outputs": []
    },
    {
      "cell_type": "code",
      "metadata": {
        "colab": {
          "base_uri": "https://localhost:8080/"
        },
        "id": "BRuDoUitP8h7",
        "outputId": "d9924031-ec95-44c1-f78f-986c8f4ded9c"
      },
      "source": [
        "corr_matrix = df_tma.corr()\n",
        "print(corr_matrix[\"score\"].sort_values(ascending=False))"
      ],
      "execution_count": 451,
      "outputs": [
        {
          "output_type": "stream",
          "text": [
            "score                         1.000000\n",
            "imd_band                      0.098026\n",
            "code_module                   0.089271\n",
            "gender                        0.087816\n",
            "weight                        0.045064\n",
            "age_band                      0.041977\n",
            "module_presentation_length    0.023988\n",
            "region                        0.009722\n",
            "code_presentation             0.008739\n",
            "studied_credits              -0.008096\n",
            "highest_education            -0.013967\n",
            "disability                   -0.049511\n",
            "date                         -0.073371\n",
            "num_of_prev_attempts         -0.074119\n",
            "date_submitted               -0.089644\n",
            "Name: score, dtype: float64\n"
          ],
          "name": "stdout"
        }
      ]
    },
    {
      "cell_type": "code",
      "metadata": {
        "id": "AoVG1nGVRAKH"
      },
      "source": [
        "# Separar as variáveis mais correlacionadas com  score.\n",
        "columns = ['score','imd_band','gender', 'age_band','code_module', 'weight', 'module_presentation_length']\n",
        "df_tma = df_tma"
      ],
      "execution_count": 452,
      "outputs": []
    },
    {
      "cell_type": "code",
      "metadata": {
        "id": "7vm-gBEkNzkA"
      },
      "source": [
        "X = df_tma.drop(['score'], axis = 1)\n",
        "y = df_tma['score']"
      ],
      "execution_count": 453,
      "outputs": []
    },
    {
      "cell_type": "code",
      "metadata": {
        "colab": {
          "base_uri": "https://localhost:8080/"
        },
        "id": "O4Zy1bwLOMED",
        "outputId": "e9b08fae-fd01-455b-970e-88e1c0ad5d04"
      },
      "source": [
        "X_train, X_test, y_train, y_test  = train_test_split(X, y, test_size = 0.3, random_state = 0)\n",
        "# Treinar o modelo\n",
        "reg = RandomForestRegressor(n_estimators=500)\n",
        "#reg = ExtraTreesRegressor()\n",
        "#reg = DecisionTreeRegressor()\n",
        "reg.fit(X_train, y_train)\n",
        "#\n",
        "# Testar o modelo\n",
        "pred = reg.predict(X_test)\n",
        "#\n",
        "# Avaliar R2 score\n",
        "r2 = r2_score(y_test, pred)\n",
        "r2"
      ],
      "execution_count": 454,
      "outputs": [
        {
          "output_type": "execute_result",
          "data": {
            "text/plain": [
              "0.09900343440844384"
            ]
          },
          "metadata": {
            "tags": []
          },
          "execution_count": 454
        }
      ]
    },
    {
      "cell_type": "code",
      "metadata": {
        "id": "2XNqjAColo78"
      },
      "source": [
        "# Salvando o modelo final especifico para assessment tipo TMA\n",
        "pickle.dump(reg, open(\"regressor_score_TMA.sav\", 'wb'))"
      ],
      "execution_count": 475,
      "outputs": []
    },
    {
      "cell_type": "code",
      "metadata": {
        "id": "q1efN44QqdyY"
      },
      "source": [
        ""
      ],
      "execution_count": null,
      "outputs": []
    },
    {
      "cell_type": "markdown",
      "metadata": {
        "id": "lZryaM4w3Sex"
      },
      "source": [
        "### Gerando o dataset EXAM"
      ]
    },
    {
      "cell_type": "code",
      "metadata": {
        "colab": {
          "base_uri": "https://localhost:8080/"
        },
        "id": "rfoB2wL8XMKC",
        "outputId": "df36c222-47e1-4979-ab46-3eb8d0d31f33"
      },
      "source": [
        "df_exam = df2.loc[df2['assessment_type'] == 1]\n",
        "#\n",
        "df_exam.drop(columns=['assessment_type', 'weight'], inplace=True)\n",
        "#\n",
        "corr_matrix = df_exam.corr()\n",
        "print(corr_matrix[\"score\"].sort_values(ascending=False))"
      ],
      "execution_count": 549,
      "outputs": [
        {
          "output_type": "stream",
          "text": [
            "score                         1.000000\n",
            "code_presentation             0.115717\n",
            "age_band                      0.082011\n",
            "imd_band                      0.062130\n",
            "gender                        0.058789\n",
            "date_submitted                0.040762\n",
            "module_presentation_length    0.025542\n",
            "studied_credits               0.002754\n",
            "disability                   -0.017411\n",
            "region                       -0.054144\n",
            "date                         -0.077332\n",
            "num_of_prev_attempts         -0.098425\n",
            "highest_education            -0.099091\n",
            "code_module                  -0.124960\n",
            "Name: score, dtype: float64\n"
          ],
          "name": "stdout"
        }
      ]
    },
    {
      "cell_type": "code",
      "metadata": {
        "id": "khux020GXP9J"
      },
      "source": [
        "# Separar as variáveis mais correlacionadas com  score.\n",
        "columns = ['score','code_module', 'code_presentation','date_submitted', 'num_of_prev_attempts', 'highest_education']\n",
        "df_exam = df_exam[columns]\n",
        "#\n"
      ],
      "execution_count": 550,
      "outputs": []
    },
    {
      "cell_type": "code",
      "metadata": {
        "colab": {
          "base_uri": "https://localhost:8080/"
        },
        "id": "LYaKzDkOZHev",
        "outputId": "eba323cd-a720-460c-b55c-ac38db0ca3fd"
      },
      "source": [
        "X = df_exam.drop(['score'], axis = 1)\n",
        "y = df_exam['score']\n",
        "#\n",
        "X_train, X_test, y_train, y_test  = train_test_split(X, y, test_size = 0.3, random_state = 0)\n",
        "# Treinar o modelo\n",
        "reg = RandomForestRegressor(n_estimators=250)\n",
        "#reg = ExtraTreesRegressor()\n",
        "#reg = DecisionTreeRegressor()\n",
        "reg.fit(X_train, y_train)\n",
        "#\n",
        "# Testar o modelo\n",
        "pred = reg.predict(X_test)\n",
        "#\n",
        "# Avaliar R2 score\n",
        "r2 = r2_score(y_test, pred)\n",
        "r2"
      ],
      "execution_count": 551,
      "outputs": [
        {
          "output_type": "execute_result",
          "data": {
            "text/plain": [
              "0.04262199191571503"
            ]
          },
          "metadata": {
            "tags": []
          },
          "execution_count": 551
        }
      ]
    },
    {
      "cell_type": "code",
      "metadata": {
        "id": "kVsjotIicNEf"
      },
      "source": [
        "# Salvando o modelo final especifico para assessment tipo EXAM\n",
        "pickle.dump(reg, open(\"regressor_score_EXAM.sav\", 'wb'))"
      ],
      "execution_count": 476,
      "outputs": []
    },
    {
      "cell_type": "code",
      "metadata": {
        "id": "SjVczPo0qw0k"
      },
      "source": [
        ""
      ],
      "execution_count": null,
      "outputs": []
    },
    {
      "cell_type": "markdown",
      "metadata": {
        "id": "RthCXrlG3bKW"
      },
      "source": [
        "### Gerando o dataset CMA"
      ]
    },
    {
      "cell_type": "code",
      "metadata": {
        "colab": {
          "base_uri": "https://localhost:8080/"
        },
        "id": "Hx6csdBtcNkm",
        "outputId": "3c40a4b2-3858-4091-d9ff-822508535684"
      },
      "source": [
        "df_cma = df2.loc[df2['assessment_type'] == 0]\n",
        "#\n",
        "df_cma.drop(columns=['assessment_type', 'weight'], inplace=True)\n",
        "#\n",
        "corr_matrix = df_cma.corr()\n",
        "print(corr_matrix[\"score\"].sort_values(ascending=False))"
      ],
      "execution_count": 528,
      "outputs": [
        {
          "output_type": "stream",
          "text": [
            "score                         1.000000\n",
            "age_band                      0.096350\n",
            "imd_band                      0.054794\n",
            "module_presentation_length    0.036502\n",
            "date                          0.022825\n",
            "highest_education             0.003409\n",
            "region                       -0.000068\n",
            "code_module                  -0.024768\n",
            "code_presentation            -0.026784\n",
            "disability                   -0.027302\n",
            "num_of_prev_attempts         -0.043038\n",
            "studied_credits              -0.051901\n",
            "date_submitted               -0.085549\n",
            "gender                       -0.143684\n",
            "Name: score, dtype: float64\n"
          ],
          "name": "stdout"
        }
      ]
    },
    {
      "cell_type": "code",
      "metadata": {
        "id": "lxnBm-RLcc7e"
      },
      "source": [
        "# Separar as variáveis mais correlacionadas com  score.\n",
        "columns = ['score','code_module', 'code_presentation', 'age_band', 'num_of_prev_attempts', 'highest_education', 'module_presentation_length', 'date']\n",
        "df_cma = df_cma[columns]\n",
        "#"
      ],
      "execution_count": 529,
      "outputs": []
    },
    {
      "cell_type": "code",
      "metadata": {
        "colab": {
          "base_uri": "https://localhost:8080/"
        },
        "id": "2pM0BAeKcmJn",
        "outputId": "ab0cad1d-53ea-4c4a-da19-9b26f9e93fca"
      },
      "source": [
        "X = df_cma.drop(['score'], axis = 1)\n",
        "y = df_cma['score']\n",
        "#\n",
        "X_train, X_test, y_train, y_test  = train_test_split(X, y, test_size = 0.3, random_state = 0)\n",
        "# Treinar o modelo\n",
        "reg = RandomForestRegressor(n_estimators=500)\n",
        "#reg = ExtraTreesRegressor()\n",
        "#reg = DecisionTreeRegressor()\n",
        "reg.fit(X_train, y_train)\n",
        "#\n",
        "# Testar o modelo\n",
        "pred = reg.predict(X_test)\n",
        "#\n",
        "# Avaliar R2 score\n",
        "r2 = r2_score(y_test, pred)\n",
        "r2"
      ],
      "execution_count": 530,
      "outputs": [
        {
          "output_type": "execute_result",
          "data": {
            "text/plain": [
              "0.13403635687605553"
            ]
          },
          "metadata": {
            "tags": []
          },
          "execution_count": 530
        }
      ]
    },
    {
      "cell_type": "code",
      "metadata": {
        "id": "lMhX8Q-nq4N8"
      },
      "source": [
        "# Salvando o modelo final especifico para assessment tipo CMA\n",
        "pickle.dump(reg, open(\"regressor_score_CMA.sav\", 'wb'))"
      ],
      "execution_count": 487,
      "outputs": []
    },
    {
      "cell_type": "code",
      "metadata": {
        "id": "FxKdzu6btDKi"
      },
      "source": [
        ""
      ],
      "execution_count": null,
      "outputs": []
    }
  ]
}